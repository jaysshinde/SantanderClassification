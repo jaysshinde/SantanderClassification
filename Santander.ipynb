{
  "nbformat": 4,
  "nbformat_minor": 0,
  "metadata": {
    "colab": {
      "provenance": []
    },
    "kernelspec": {
      "name": "python3",
      "display_name": "Python 3"
    },
    "language_info": {
      "name": "python"
    }
  },
  "cells": [
    {
      "cell_type": "markdown",
      "source": [
        "Mounting Google Drive"
      ],
      "metadata": {
        "id": "K2llDpNNSRPx"
      }
    },
    {
      "cell_type": "code",
      "execution_count": null,
      "metadata": {
        "id": "aXtopYRrRmzw",
        "colab": {
          "base_uri": "https://localhost:8080/"
        },
        "outputId": "5f2f3f38-d634-42d0-c931-9fb110d537d6"
      },
      "outputs": [
        {
          "output_type": "stream",
          "name": "stdout",
          "text": [
            "Mounted at /gdrive\n",
            "/gdrive\n"
          ]
        }
      ],
      "source": [
        "#Import Python Packages\n",
        "#from google.colab import drive\n",
        "#drive.mount('/content/drive/')\n",
        "\n",
        "from google.colab import drive\n",
        "drive.mount('/gdrive')\n",
        "%cd /gdrive"
      ]
    },
    {
      "cell_type": "markdown",
      "source": [
        "Importing Necessary Modules"
      ],
      "metadata": {
        "id": "PJQx6Vc-_3xV"
      }
    },
    {
      "cell_type": "code",
      "source": [
        "import pandas as pd\n",
        "import numpy as np\n",
        "from sklearn.tree import DecisionTreeClassifier\n",
        "from sklearn.model_selection import train_test_split\n",
        "from sklearn import tree, metrics\n",
        "import imblearn\n",
        "from imblearn.under_sampling import RandomUnderSampler\n",
        "from collections import Counter\n",
        "from sklearn.feature_selection import VarianceThreshold\n",
        "from imblearn.over_sampling import SMOTE"
      ],
      "metadata": {
        "id": "i0LnQBS9SaKA"
      },
      "execution_count": null,
      "outputs": []
    },
    {
      "cell_type": "markdown",
      "source": [
        "Reading Data"
      ],
      "metadata": {
        "id": "n1T2xwFq__yD"
      }
    },
    {
      "cell_type": "code",
      "source": [
        "test = pd.read_csv(\"/gdrive/MyDrive/CIS508/Santander/Santander Customer Satisfaction - TEST-Without TARGET.csv\")\n",
        "training = pd.read_csv(\"/gdrive/MyDrive/CIS508/Santander/Santander Customer Satisfaction - TRAIN.csv\")"
      ],
      "metadata": {
        "id": "prfL6xTmSzQW"
      },
      "execution_count": null,
      "outputs": []
    },
    {
      "cell_type": "markdown",
      "source": [
        "Performing EDA on the data"
      ],
      "metadata": {
        "id": "aaMCgQjNCIDl"
      }
    },
    {
      "cell_type": "code",
      "source": [
        "training.info()\n",
        "print()\n",
        "test.info()"
      ],
      "metadata": {
        "colab": {
          "base_uri": "https://localhost:8080/"
        },
        "id": "xrXR22RWSBXj",
        "outputId": "65f0bf59-387a-46ab-c80c-8bc626016835"
      },
      "execution_count": null,
      "outputs": [
        {
          "output_type": "stream",
          "name": "stdout",
          "text": [
            "<class 'pandas.core.frame.DataFrame'>\n",
            "RangeIndex: 76020 entries, 0 to 76019\n",
            "Columns: 371 entries, ID to TARGET\n",
            "dtypes: float64(111), int64(260)\n",
            "memory usage: 215.2 MB\n",
            "\n",
            "<class 'pandas.core.frame.DataFrame'>\n",
            "RangeIndex: 75818 entries, 0 to 75817\n",
            "Columns: 370 entries, ID to var38\n",
            "dtypes: float64(110), int64(260)\n",
            "memory usage: 214.0 MB\n"
          ]
        }
      ]
    },
    {
      "cell_type": "code",
      "source": [
        "print(\"Training Shape\", training.shape)\n",
        "print(\"--------------\")\n",
        "print(\"Test shape\", test.shape)"
      ],
      "metadata": {
        "colab": {
          "base_uri": "https://localhost:8080/"
        },
        "id": "hzXJRNiLwM_y",
        "outputId": "143d2d56-8406-4e0a-caf5-1fe099819f61"
      },
      "execution_count": null,
      "outputs": [
        {
          "output_type": "stream",
          "name": "stdout",
          "text": [
            "Training Shape (76020, 371)\n",
            "--------------\n",
            "Test shape (75818, 370)\n"
          ]
        }
      ]
    },
    {
      "cell_type": "code",
      "source": [
        "training.describe()"
      ],
      "metadata": {
        "colab": {
          "base_uri": "https://localhost:8080/",
          "height": 394
        },
        "id": "XnoSmzvQSBZY",
        "outputId": "ea0a3122-62b1-4078-ebe1-5e5649027a97"
      },
      "execution_count": null,
      "outputs": [
        {
          "output_type": "execute_result",
          "data": {
            "text/plain": [
              "                  ID           var3         var15  imp_ent_var16_ult1  \\\n",
              "count   76020.000000   76020.000000  76020.000000        76020.000000   \n",
              "mean    75964.050723   -1523.199277     33.212865           86.208265   \n",
              "std     43781.947379   39033.462364     12.956486         1614.757313   \n",
              "min         1.000000 -999999.000000      5.000000            0.000000   \n",
              "25%     38104.750000       2.000000     23.000000            0.000000   \n",
              "50%     76043.000000       2.000000     28.000000            0.000000   \n",
              "75%    113748.750000       2.000000     40.000000            0.000000   \n",
              "max    151838.000000     238.000000    105.000000       210000.000000   \n",
              "\n",
              "       imp_op_var39_comer_ult1  imp_op_var39_comer_ult3  \\\n",
              "count             76020.000000             76020.000000   \n",
              "mean                 72.363067               119.529632   \n",
              "std                 339.315831               546.266294   \n",
              "min                   0.000000                 0.000000   \n",
              "25%                   0.000000                 0.000000   \n",
              "50%                   0.000000                 0.000000   \n",
              "75%                   0.000000                 0.000000   \n",
              "max               12888.030000             21024.810000   \n",
              "\n",
              "       imp_op_var40_comer_ult1  imp_op_var40_comer_ult3  \\\n",
              "count             76020.000000             76020.000000   \n",
              "mean                  3.559130                 6.472698   \n",
              "std                  93.155749               153.737066   \n",
              "min                   0.000000                 0.000000   \n",
              "25%                   0.000000                 0.000000   \n",
              "50%                   0.000000                 0.000000   \n",
              "75%                   0.000000                 0.000000   \n",
              "max                8237.820000             11073.570000   \n",
              "\n",
              "       imp_op_var40_efect_ult1  imp_op_var40_efect_ult3  ...  \\\n",
              "count             76020.000000             76020.000000  ...   \n",
              "mean                  0.412946                 0.567352  ...   \n",
              "std                  30.604864                36.513513  ...   \n",
              "min                   0.000000                 0.000000  ...   \n",
              "25%                   0.000000                 0.000000  ...   \n",
              "50%                   0.000000                 0.000000  ...   \n",
              "75%                   0.000000                 0.000000  ...   \n",
              "max                6600.000000              6600.000000  ...   \n",
              "\n",
              "       saldo_medio_var33_hace2  saldo_medio_var33_hace3  \\\n",
              "count             76020.000000             76020.000000   \n",
              "mean                  7.935824                 1.365146   \n",
              "std                 455.887218               113.959637   \n",
              "min                   0.000000                 0.000000   \n",
              "25%                   0.000000                 0.000000   \n",
              "50%                   0.000000                 0.000000   \n",
              "75%                   0.000000                 0.000000   \n",
              "max               50003.880000             20385.720000   \n",
              "\n",
              "       saldo_medio_var33_ult1  saldo_medio_var33_ult3  \\\n",
              "count            76020.000000            76020.000000   \n",
              "mean                12.215580                8.784074   \n",
              "std                783.207399              538.439211   \n",
              "min                  0.000000                0.000000   \n",
              "25%                  0.000000                0.000000   \n",
              "50%                  0.000000                0.000000   \n",
              "75%                  0.000000                0.000000   \n",
              "max             138831.630000            91778.730000   \n",
              "\n",
              "       saldo_medio_var44_hace2  saldo_medio_var44_hace3  \\\n",
              "count             76020.000000             76020.000000   \n",
              "mean                 31.505324                 1.858575   \n",
              "std                2013.125393               147.786584   \n",
              "min                   0.000000                 0.000000   \n",
              "25%                   0.000000                 0.000000   \n",
              "50%                   0.000000                 0.000000   \n",
              "75%                   0.000000                 0.000000   \n",
              "max              438329.220000             24650.010000   \n",
              "\n",
              "       saldo_medio_var44_ult1  saldo_medio_var44_ult3         var38  \\\n",
              "count            76020.000000            76020.000000  7.602000e+04   \n",
              "mean                76.026165               56.614351  1.172358e+05   \n",
              "std               4040.337842             2852.579397  1.826646e+05   \n",
              "min                  0.000000                0.000000  5.163750e+03   \n",
              "25%                  0.000000                0.000000  6.787061e+04   \n",
              "50%                  0.000000                0.000000  1.064092e+05   \n",
              "75%                  0.000000                0.000000  1.187563e+05   \n",
              "max             681462.900000           397884.300000  2.203474e+07   \n",
              "\n",
              "             TARGET  \n",
              "count  76020.000000  \n",
              "mean       0.039569  \n",
              "std        0.194945  \n",
              "min        0.000000  \n",
              "25%        0.000000  \n",
              "50%        0.000000  \n",
              "75%        0.000000  \n",
              "max        1.000000  \n",
              "\n",
              "[8 rows x 371 columns]"
            ],
            "text/html": [
              "\n",
              "  <div id=\"df-926216bc-5523-4aa3-af2f-d3ef7dcc62de\">\n",
              "    <div class=\"colab-df-container\">\n",
              "      <div>\n",
              "<style scoped>\n",
              "    .dataframe tbody tr th:only-of-type {\n",
              "        vertical-align: middle;\n",
              "    }\n",
              "\n",
              "    .dataframe tbody tr th {\n",
              "        vertical-align: top;\n",
              "    }\n",
              "\n",
              "    .dataframe thead th {\n",
              "        text-align: right;\n",
              "    }\n",
              "</style>\n",
              "<table border=\"1\" class=\"dataframe\">\n",
              "  <thead>\n",
              "    <tr style=\"text-align: right;\">\n",
              "      <th></th>\n",
              "      <th>ID</th>\n",
              "      <th>var3</th>\n",
              "      <th>var15</th>\n",
              "      <th>imp_ent_var16_ult1</th>\n",
              "      <th>imp_op_var39_comer_ult1</th>\n",
              "      <th>imp_op_var39_comer_ult3</th>\n",
              "      <th>imp_op_var40_comer_ult1</th>\n",
              "      <th>imp_op_var40_comer_ult3</th>\n",
              "      <th>imp_op_var40_efect_ult1</th>\n",
              "      <th>imp_op_var40_efect_ult3</th>\n",
              "      <th>...</th>\n",
              "      <th>saldo_medio_var33_hace2</th>\n",
              "      <th>saldo_medio_var33_hace3</th>\n",
              "      <th>saldo_medio_var33_ult1</th>\n",
              "      <th>saldo_medio_var33_ult3</th>\n",
              "      <th>saldo_medio_var44_hace2</th>\n",
              "      <th>saldo_medio_var44_hace3</th>\n",
              "      <th>saldo_medio_var44_ult1</th>\n",
              "      <th>saldo_medio_var44_ult3</th>\n",
              "      <th>var38</th>\n",
              "      <th>TARGET</th>\n",
              "    </tr>\n",
              "  </thead>\n",
              "  <tbody>\n",
              "    <tr>\n",
              "      <th>count</th>\n",
              "      <td>76020.000000</td>\n",
              "      <td>76020.000000</td>\n",
              "      <td>76020.000000</td>\n",
              "      <td>76020.000000</td>\n",
              "      <td>76020.000000</td>\n",
              "      <td>76020.000000</td>\n",
              "      <td>76020.000000</td>\n",
              "      <td>76020.000000</td>\n",
              "      <td>76020.000000</td>\n",
              "      <td>76020.000000</td>\n",
              "      <td>...</td>\n",
              "      <td>76020.000000</td>\n",
              "      <td>76020.000000</td>\n",
              "      <td>76020.000000</td>\n",
              "      <td>76020.000000</td>\n",
              "      <td>76020.000000</td>\n",
              "      <td>76020.000000</td>\n",
              "      <td>76020.000000</td>\n",
              "      <td>76020.000000</td>\n",
              "      <td>7.602000e+04</td>\n",
              "      <td>76020.000000</td>\n",
              "    </tr>\n",
              "    <tr>\n",
              "      <th>mean</th>\n",
              "      <td>75964.050723</td>\n",
              "      <td>-1523.199277</td>\n",
              "      <td>33.212865</td>\n",
              "      <td>86.208265</td>\n",
              "      <td>72.363067</td>\n",
              "      <td>119.529632</td>\n",
              "      <td>3.559130</td>\n",
              "      <td>6.472698</td>\n",
              "      <td>0.412946</td>\n",
              "      <td>0.567352</td>\n",
              "      <td>...</td>\n",
              "      <td>7.935824</td>\n",
              "      <td>1.365146</td>\n",
              "      <td>12.215580</td>\n",
              "      <td>8.784074</td>\n",
              "      <td>31.505324</td>\n",
              "      <td>1.858575</td>\n",
              "      <td>76.026165</td>\n",
              "      <td>56.614351</td>\n",
              "      <td>1.172358e+05</td>\n",
              "      <td>0.039569</td>\n",
              "    </tr>\n",
              "    <tr>\n",
              "      <th>std</th>\n",
              "      <td>43781.947379</td>\n",
              "      <td>39033.462364</td>\n",
              "      <td>12.956486</td>\n",
              "      <td>1614.757313</td>\n",
              "      <td>339.315831</td>\n",
              "      <td>546.266294</td>\n",
              "      <td>93.155749</td>\n",
              "      <td>153.737066</td>\n",
              "      <td>30.604864</td>\n",
              "      <td>36.513513</td>\n",
              "      <td>...</td>\n",
              "      <td>455.887218</td>\n",
              "      <td>113.959637</td>\n",
              "      <td>783.207399</td>\n",
              "      <td>538.439211</td>\n",
              "      <td>2013.125393</td>\n",
              "      <td>147.786584</td>\n",
              "      <td>4040.337842</td>\n",
              "      <td>2852.579397</td>\n",
              "      <td>1.826646e+05</td>\n",
              "      <td>0.194945</td>\n",
              "    </tr>\n",
              "    <tr>\n",
              "      <th>min</th>\n",
              "      <td>1.000000</td>\n",
              "      <td>-999999.000000</td>\n",
              "      <td>5.000000</td>\n",
              "      <td>0.000000</td>\n",
              "      <td>0.000000</td>\n",
              "      <td>0.000000</td>\n",
              "      <td>0.000000</td>\n",
              "      <td>0.000000</td>\n",
              "      <td>0.000000</td>\n",
              "      <td>0.000000</td>\n",
              "      <td>...</td>\n",
              "      <td>0.000000</td>\n",
              "      <td>0.000000</td>\n",
              "      <td>0.000000</td>\n",
              "      <td>0.000000</td>\n",
              "      <td>0.000000</td>\n",
              "      <td>0.000000</td>\n",
              "      <td>0.000000</td>\n",
              "      <td>0.000000</td>\n",
              "      <td>5.163750e+03</td>\n",
              "      <td>0.000000</td>\n",
              "    </tr>\n",
              "    <tr>\n",
              "      <th>25%</th>\n",
              "      <td>38104.750000</td>\n",
              "      <td>2.000000</td>\n",
              "      <td>23.000000</td>\n",
              "      <td>0.000000</td>\n",
              "      <td>0.000000</td>\n",
              "      <td>0.000000</td>\n",
              "      <td>0.000000</td>\n",
              "      <td>0.000000</td>\n",
              "      <td>0.000000</td>\n",
              "      <td>0.000000</td>\n",
              "      <td>...</td>\n",
              "      <td>0.000000</td>\n",
              "      <td>0.000000</td>\n",
              "      <td>0.000000</td>\n",
              "      <td>0.000000</td>\n",
              "      <td>0.000000</td>\n",
              "      <td>0.000000</td>\n",
              "      <td>0.000000</td>\n",
              "      <td>0.000000</td>\n",
              "      <td>6.787061e+04</td>\n",
              "      <td>0.000000</td>\n",
              "    </tr>\n",
              "    <tr>\n",
              "      <th>50%</th>\n",
              "      <td>76043.000000</td>\n",
              "      <td>2.000000</td>\n",
              "      <td>28.000000</td>\n",
              "      <td>0.000000</td>\n",
              "      <td>0.000000</td>\n",
              "      <td>0.000000</td>\n",
              "      <td>0.000000</td>\n",
              "      <td>0.000000</td>\n",
              "      <td>0.000000</td>\n",
              "      <td>0.000000</td>\n",
              "      <td>...</td>\n",
              "      <td>0.000000</td>\n",
              "      <td>0.000000</td>\n",
              "      <td>0.000000</td>\n",
              "      <td>0.000000</td>\n",
              "      <td>0.000000</td>\n",
              "      <td>0.000000</td>\n",
              "      <td>0.000000</td>\n",
              "      <td>0.000000</td>\n",
              "      <td>1.064092e+05</td>\n",
              "      <td>0.000000</td>\n",
              "    </tr>\n",
              "    <tr>\n",
              "      <th>75%</th>\n",
              "      <td>113748.750000</td>\n",
              "      <td>2.000000</td>\n",
              "      <td>40.000000</td>\n",
              "      <td>0.000000</td>\n",
              "      <td>0.000000</td>\n",
              "      <td>0.000000</td>\n",
              "      <td>0.000000</td>\n",
              "      <td>0.000000</td>\n",
              "      <td>0.000000</td>\n",
              "      <td>0.000000</td>\n",
              "      <td>...</td>\n",
              "      <td>0.000000</td>\n",
              "      <td>0.000000</td>\n",
              "      <td>0.000000</td>\n",
              "      <td>0.000000</td>\n",
              "      <td>0.000000</td>\n",
              "      <td>0.000000</td>\n",
              "      <td>0.000000</td>\n",
              "      <td>0.000000</td>\n",
              "      <td>1.187563e+05</td>\n",
              "      <td>0.000000</td>\n",
              "    </tr>\n",
              "    <tr>\n",
              "      <th>max</th>\n",
              "      <td>151838.000000</td>\n",
              "      <td>238.000000</td>\n",
              "      <td>105.000000</td>\n",
              "      <td>210000.000000</td>\n",
              "      <td>12888.030000</td>\n",
              "      <td>21024.810000</td>\n",
              "      <td>8237.820000</td>\n",
              "      <td>11073.570000</td>\n",
              "      <td>6600.000000</td>\n",
              "      <td>6600.000000</td>\n",
              "      <td>...</td>\n",
              "      <td>50003.880000</td>\n",
              "      <td>20385.720000</td>\n",
              "      <td>138831.630000</td>\n",
              "      <td>91778.730000</td>\n",
              "      <td>438329.220000</td>\n",
              "      <td>24650.010000</td>\n",
              "      <td>681462.900000</td>\n",
              "      <td>397884.300000</td>\n",
              "      <td>2.203474e+07</td>\n",
              "      <td>1.000000</td>\n",
              "    </tr>\n",
              "  </tbody>\n",
              "</table>\n",
              "<p>8 rows × 371 columns</p>\n",
              "</div>\n",
              "      <button class=\"colab-df-convert\" onclick=\"convertToInteractive('df-926216bc-5523-4aa3-af2f-d3ef7dcc62de')\"\n",
              "              title=\"Convert this dataframe to an interactive table.\"\n",
              "              style=\"display:none;\">\n",
              "        \n",
              "  <svg xmlns=\"http://www.w3.org/2000/svg\" height=\"24px\"viewBox=\"0 0 24 24\"\n",
              "       width=\"24px\">\n",
              "    <path d=\"M0 0h24v24H0V0z\" fill=\"none\"/>\n",
              "    <path d=\"M18.56 5.44l.94 2.06.94-2.06 2.06-.94-2.06-.94-.94-2.06-.94 2.06-2.06.94zm-11 1L8.5 8.5l.94-2.06 2.06-.94-2.06-.94L8.5 2.5l-.94 2.06-2.06.94zm10 10l.94 2.06.94-2.06 2.06-.94-2.06-.94-.94-2.06-.94 2.06-2.06.94z\"/><path d=\"M17.41 7.96l-1.37-1.37c-.4-.4-.92-.59-1.43-.59-.52 0-1.04.2-1.43.59L10.3 9.45l-7.72 7.72c-.78.78-.78 2.05 0 2.83L4 21.41c.39.39.9.59 1.41.59.51 0 1.02-.2 1.41-.59l7.78-7.78 2.81-2.81c.8-.78.8-2.07 0-2.86zM5.41 20L4 18.59l7.72-7.72 1.47 1.35L5.41 20z\"/>\n",
              "  </svg>\n",
              "      </button>\n",
              "      \n",
              "  <style>\n",
              "    .colab-df-container {\n",
              "      display:flex;\n",
              "      flex-wrap:wrap;\n",
              "      gap: 12px;\n",
              "    }\n",
              "\n",
              "    .colab-df-convert {\n",
              "      background-color: #E8F0FE;\n",
              "      border: none;\n",
              "      border-radius: 50%;\n",
              "      cursor: pointer;\n",
              "      display: none;\n",
              "      fill: #1967D2;\n",
              "      height: 32px;\n",
              "      padding: 0 0 0 0;\n",
              "      width: 32px;\n",
              "    }\n",
              "\n",
              "    .colab-df-convert:hover {\n",
              "      background-color: #E2EBFA;\n",
              "      box-shadow: 0px 1px 2px rgba(60, 64, 67, 0.3), 0px 1px 3px 1px rgba(60, 64, 67, 0.15);\n",
              "      fill: #174EA6;\n",
              "    }\n",
              "\n",
              "    [theme=dark] .colab-df-convert {\n",
              "      background-color: #3B4455;\n",
              "      fill: #D2E3FC;\n",
              "    }\n",
              "\n",
              "    [theme=dark] .colab-df-convert:hover {\n",
              "      background-color: #434B5C;\n",
              "      box-shadow: 0px 1px 3px 1px rgba(0, 0, 0, 0.15);\n",
              "      filter: drop-shadow(0px 1px 2px rgba(0, 0, 0, 0.3));\n",
              "      fill: #FFFFFF;\n",
              "    }\n",
              "  </style>\n",
              "\n",
              "      <script>\n",
              "        const buttonEl =\n",
              "          document.querySelector('#df-926216bc-5523-4aa3-af2f-d3ef7dcc62de button.colab-df-convert');\n",
              "        buttonEl.style.display =\n",
              "          google.colab.kernel.accessAllowed ? 'block' : 'none';\n",
              "\n",
              "        async function convertToInteractive(key) {\n",
              "          const element = document.querySelector('#df-926216bc-5523-4aa3-af2f-d3ef7dcc62de');\n",
              "          const dataTable =\n",
              "            await google.colab.kernel.invokeFunction('convertToInteractive',\n",
              "                                                     [key], {});\n",
              "          if (!dataTable) return;\n",
              "\n",
              "          const docLinkHtml = 'Like what you see? Visit the ' +\n",
              "            '<a target=\"_blank\" href=https://colab.research.google.com/notebooks/data_table.ipynb>data table notebook</a>'\n",
              "            + ' to learn more about interactive tables.';\n",
              "          element.innerHTML = '';\n",
              "          dataTable['output_type'] = 'display_data';\n",
              "          await google.colab.output.renderOutput(dataTable, element);\n",
              "          const docLink = document.createElement('div');\n",
              "          docLink.innerHTML = docLinkHtml;\n",
              "          element.appendChild(docLink);\n",
              "        }\n",
              "      </script>\n",
              "    </div>\n",
              "  </div>\n",
              "  "
            ]
          },
          "metadata": {},
          "execution_count": 7
        }
      ]
    },
    {
      "cell_type": "code",
      "source": [
        "#To get list of names of all Columns from a dataframe\n",
        "\n",
        "TrainCols = list(training.columns.values)\n",
        "TestCols = list(test.columns.values)\n",
        "print(TrainCols)\n",
        "print(TestCols)"
      ],
      "metadata": {
        "colab": {
          "base_uri": "https://localhost:8080/"
        },
        "id": "b6tFoCdbSBbG",
        "outputId": "d0505c0d-d6ed-4e09-ca33-6afc2a99ef25"
      },
      "execution_count": null,
      "outputs": [
        {
          "output_type": "stream",
          "name": "stdout",
          "text": [
            "['ID', 'var3', 'var15', 'imp_ent_var16_ult1', 'imp_op_var39_comer_ult1', 'imp_op_var39_comer_ult3', 'imp_op_var40_comer_ult1', 'imp_op_var40_comer_ult3', 'imp_op_var40_efect_ult1', 'imp_op_var40_efect_ult3', 'imp_op_var40_ult1', 'imp_op_var41_comer_ult1', 'imp_op_var41_comer_ult3', 'imp_op_var41_efect_ult1', 'imp_op_var41_efect_ult3', 'imp_op_var41_ult1', 'imp_op_var39_efect_ult1', 'imp_op_var39_efect_ult3', 'imp_op_var39_ult1', 'imp_sal_var16_ult1', 'ind_var1_0', 'ind_var1', 'ind_var2_0', 'ind_var2', 'ind_var5_0', 'ind_var5', 'ind_var6_0', 'ind_var6', 'ind_var8_0', 'ind_var8', 'ind_var12_0', 'ind_var12', 'ind_var13_0', 'ind_var13_corto_0', 'ind_var13_corto', 'ind_var13_largo_0', 'ind_var13_largo', 'ind_var13_medio_0', 'ind_var13_medio', 'ind_var13', 'ind_var14_0', 'ind_var14', 'ind_var17_0', 'ind_var17', 'ind_var18_0', 'ind_var18', 'ind_var19', 'ind_var20_0', 'ind_var20', 'ind_var24_0', 'ind_var24', 'ind_var25_cte', 'ind_var26_0', 'ind_var26_cte', 'ind_var26', 'ind_var25_0', 'ind_var25', 'ind_var27_0', 'ind_var28_0', 'ind_var28', 'ind_var27', 'ind_var29_0', 'ind_var29', 'ind_var30_0', 'ind_var30', 'ind_var31_0', 'ind_var31', 'ind_var32_cte', 'ind_var32_0', 'ind_var32', 'ind_var33_0', 'ind_var33', 'ind_var34_0', 'ind_var34', 'ind_var37_cte', 'ind_var37_0', 'ind_var37', 'ind_var39_0', 'ind_var40_0', 'ind_var40', 'ind_var41_0', 'ind_var41', 'ind_var39', 'ind_var44_0', 'ind_var44', 'ind_var46_0', 'ind_var46', 'num_var1_0', 'num_var1', 'num_var4', 'num_var5_0', 'num_var5', 'num_var6_0', 'num_var6', 'num_var8_0', 'num_var8', 'num_var12_0', 'num_var12', 'num_var13_0', 'num_var13_corto_0', 'num_var13_corto', 'num_var13_largo_0', 'num_var13_largo', 'num_var13_medio_0', 'num_var13_medio', 'num_var13', 'num_var14_0', 'num_var14', 'num_var17_0', 'num_var17', 'num_var18_0', 'num_var18', 'num_var20_0', 'num_var20', 'num_var24_0', 'num_var24', 'num_var26_0', 'num_var26', 'num_var25_0', 'num_var25', 'num_op_var40_hace2', 'num_op_var40_hace3', 'num_op_var40_ult1', 'num_op_var40_ult3', 'num_op_var41_hace2', 'num_op_var41_hace3', 'num_op_var41_ult1', 'num_op_var41_ult3', 'num_op_var39_hace2', 'num_op_var39_hace3', 'num_op_var39_ult1', 'num_op_var39_ult3', 'num_var27_0', 'num_var28_0', 'num_var28', 'num_var27', 'num_var29_0', 'num_var29', 'num_var30_0', 'num_var30', 'num_var31_0', 'num_var31', 'num_var32_0', 'num_var32', 'num_var33_0', 'num_var33', 'num_var34_0', 'num_var34', 'num_var35', 'num_var37_med_ult2', 'num_var37_0', 'num_var37', 'num_var39_0', 'num_var40_0', 'num_var40', 'num_var41_0', 'num_var41', 'num_var39', 'num_var42_0', 'num_var42', 'num_var44_0', 'num_var44', 'num_var46_0', 'num_var46', 'saldo_var1', 'saldo_var5', 'saldo_var6', 'saldo_var8', 'saldo_var12', 'saldo_var13_corto', 'saldo_var13_largo', 'saldo_var13_medio', 'saldo_var13', 'saldo_var14', 'saldo_var17', 'saldo_var18', 'saldo_var20', 'saldo_var24', 'saldo_var26', 'saldo_var25', 'saldo_var28', 'saldo_var27', 'saldo_var29', 'saldo_var30', 'saldo_var31', 'saldo_var32', 'saldo_var33', 'saldo_var34', 'saldo_var37', 'saldo_var40', 'saldo_var41', 'saldo_var42', 'saldo_var44', 'saldo_var46', 'var36', 'delta_imp_amort_var18_1y3', 'delta_imp_amort_var34_1y3', 'delta_imp_aport_var13_1y3', 'delta_imp_aport_var17_1y3', 'delta_imp_aport_var33_1y3', 'delta_imp_compra_var44_1y3', 'delta_imp_reemb_var13_1y3', 'delta_imp_reemb_var17_1y3', 'delta_imp_reemb_var33_1y3', 'delta_imp_trasp_var17_in_1y3', 'delta_imp_trasp_var17_out_1y3', 'delta_imp_trasp_var33_in_1y3', 'delta_imp_trasp_var33_out_1y3', 'delta_imp_venta_var44_1y3', 'delta_num_aport_var13_1y3', 'delta_num_aport_var17_1y3', 'delta_num_aport_var33_1y3', 'delta_num_compra_var44_1y3', 'delta_num_reemb_var13_1y3', 'delta_num_reemb_var17_1y3', 'delta_num_reemb_var33_1y3', 'delta_num_trasp_var17_in_1y3', 'delta_num_trasp_var17_out_1y3', 'delta_num_trasp_var33_in_1y3', 'delta_num_trasp_var33_out_1y3', 'delta_num_venta_var44_1y3', 'imp_amort_var18_hace3', 'imp_amort_var18_ult1', 'imp_amort_var34_hace3', 'imp_amort_var34_ult1', 'imp_aport_var13_hace3', 'imp_aport_var13_ult1', 'imp_aport_var17_hace3', 'imp_aport_var17_ult1', 'imp_aport_var33_hace3', 'imp_aport_var33_ult1', 'imp_var7_emit_ult1', 'imp_var7_recib_ult1', 'imp_compra_var44_hace3', 'imp_compra_var44_ult1', 'imp_reemb_var13_hace3', 'imp_reemb_var13_ult1', 'imp_reemb_var17_hace3', 'imp_reemb_var17_ult1', 'imp_reemb_var33_hace3', 'imp_reemb_var33_ult1', 'imp_var43_emit_ult1', 'imp_trans_var37_ult1', 'imp_trasp_var17_in_hace3', 'imp_trasp_var17_in_ult1', 'imp_trasp_var17_out_hace3', 'imp_trasp_var17_out_ult1', 'imp_trasp_var33_in_hace3', 'imp_trasp_var33_in_ult1', 'imp_trasp_var33_out_hace3', 'imp_trasp_var33_out_ult1', 'imp_venta_var44_hace3', 'imp_venta_var44_ult1', 'ind_var7_emit_ult1', 'ind_var7_recib_ult1', 'ind_var10_ult1', 'ind_var10cte_ult1', 'ind_var9_cte_ult1', 'ind_var9_ult1', 'ind_var43_emit_ult1', 'ind_var43_recib_ult1', 'var21', 'num_var2_0_ult1', 'num_var2_ult1', 'num_aport_var13_hace3', 'num_aport_var13_ult1', 'num_aport_var17_hace3', 'num_aport_var17_ult1', 'num_aport_var33_hace3', 'num_aport_var33_ult1', 'num_var7_emit_ult1', 'num_var7_recib_ult1', 'num_compra_var44_hace3', 'num_compra_var44_ult1', 'num_ent_var16_ult1', 'num_var22_hace2', 'num_var22_hace3', 'num_var22_ult1', 'num_var22_ult3', 'num_med_var22_ult3', 'num_med_var45_ult3', 'num_meses_var5_ult3', 'num_meses_var8_ult3', 'num_meses_var12_ult3', 'num_meses_var13_corto_ult3', 'num_meses_var13_largo_ult3', 'num_meses_var13_medio_ult3', 'num_meses_var17_ult3', 'num_meses_var29_ult3', 'num_meses_var33_ult3', 'num_meses_var39_vig_ult3', 'num_meses_var44_ult3', 'num_op_var39_comer_ult1', 'num_op_var39_comer_ult3', 'num_op_var40_comer_ult1', 'num_op_var40_comer_ult3', 'num_op_var40_efect_ult1', 'num_op_var40_efect_ult3', 'num_op_var41_comer_ult1', 'num_op_var41_comer_ult3', 'num_op_var41_efect_ult1', 'num_op_var41_efect_ult3', 'num_op_var39_efect_ult1', 'num_op_var39_efect_ult3', 'num_reemb_var13_hace3', 'num_reemb_var13_ult1', 'num_reemb_var17_hace3', 'num_reemb_var17_ult1', 'num_reemb_var33_hace3', 'num_reemb_var33_ult1', 'num_sal_var16_ult1', 'num_var43_emit_ult1', 'num_var43_recib_ult1', 'num_trasp_var11_ult1', 'num_trasp_var17_in_hace3', 'num_trasp_var17_in_ult1', 'num_trasp_var17_out_hace3', 'num_trasp_var17_out_ult1', 'num_trasp_var33_in_hace3', 'num_trasp_var33_in_ult1', 'num_trasp_var33_out_hace3', 'num_trasp_var33_out_ult1', 'num_venta_var44_hace3', 'num_venta_var44_ult1', 'num_var45_hace2', 'num_var45_hace3', 'num_var45_ult1', 'num_var45_ult3', 'saldo_var2_ult1', 'saldo_medio_var5_hace2', 'saldo_medio_var5_hace3', 'saldo_medio_var5_ult1', 'saldo_medio_var5_ult3', 'saldo_medio_var8_hace2', 'saldo_medio_var8_hace3', 'saldo_medio_var8_ult1', 'saldo_medio_var8_ult3', 'saldo_medio_var12_hace2', 'saldo_medio_var12_hace3', 'saldo_medio_var12_ult1', 'saldo_medio_var12_ult3', 'saldo_medio_var13_corto_hace2', 'saldo_medio_var13_corto_hace3', 'saldo_medio_var13_corto_ult1', 'saldo_medio_var13_corto_ult3', 'saldo_medio_var13_largo_hace2', 'saldo_medio_var13_largo_hace3', 'saldo_medio_var13_largo_ult1', 'saldo_medio_var13_largo_ult3', 'saldo_medio_var13_medio_hace2', 'saldo_medio_var13_medio_hace3', 'saldo_medio_var13_medio_ult1', 'saldo_medio_var13_medio_ult3', 'saldo_medio_var17_hace2', 'saldo_medio_var17_hace3', 'saldo_medio_var17_ult1', 'saldo_medio_var17_ult3', 'saldo_medio_var29_hace2', 'saldo_medio_var29_hace3', 'saldo_medio_var29_ult1', 'saldo_medio_var29_ult3', 'saldo_medio_var33_hace2', 'saldo_medio_var33_hace3', 'saldo_medio_var33_ult1', 'saldo_medio_var33_ult3', 'saldo_medio_var44_hace2', 'saldo_medio_var44_hace3', 'saldo_medio_var44_ult1', 'saldo_medio_var44_ult3', 'var38', 'TARGET']\n",
            "['ID', 'var3', 'var15', 'imp_ent_var16_ult1', 'imp_op_var39_comer_ult1', 'imp_op_var39_comer_ult3', 'imp_op_var40_comer_ult1', 'imp_op_var40_comer_ult3', 'imp_op_var40_efect_ult1', 'imp_op_var40_efect_ult3', 'imp_op_var40_ult1', 'imp_op_var41_comer_ult1', 'imp_op_var41_comer_ult3', 'imp_op_var41_efect_ult1', 'imp_op_var41_efect_ult3', 'imp_op_var41_ult1', 'imp_op_var39_efect_ult1', 'imp_op_var39_efect_ult3', 'imp_op_var39_ult1', 'imp_sal_var16_ult1', 'ind_var1_0', 'ind_var1', 'ind_var2_0', 'ind_var2', 'ind_var5_0', 'ind_var5', 'ind_var6_0', 'ind_var6', 'ind_var8_0', 'ind_var8', 'ind_var12_0', 'ind_var12', 'ind_var13_0', 'ind_var13_corto_0', 'ind_var13_corto', 'ind_var13_largo_0', 'ind_var13_largo', 'ind_var13_medio_0', 'ind_var13_medio', 'ind_var13', 'ind_var14_0', 'ind_var14', 'ind_var17_0', 'ind_var17', 'ind_var18_0', 'ind_var18', 'ind_var19', 'ind_var20_0', 'ind_var20', 'ind_var24_0', 'ind_var24', 'ind_var25_cte', 'ind_var26_0', 'ind_var26_cte', 'ind_var26', 'ind_var25_0', 'ind_var25', 'ind_var27_0', 'ind_var28_0', 'ind_var28', 'ind_var27', 'ind_var29_0', 'ind_var29', 'ind_var30_0', 'ind_var30', 'ind_var31_0', 'ind_var31', 'ind_var32_cte', 'ind_var32_0', 'ind_var32', 'ind_var33_0', 'ind_var33', 'ind_var34_0', 'ind_var34', 'ind_var37_cte', 'ind_var37_0', 'ind_var37', 'ind_var39_0', 'ind_var40_0', 'ind_var40', 'ind_var41_0', 'ind_var41', 'ind_var39', 'ind_var44_0', 'ind_var44', 'ind_var46_0', 'ind_var46', 'num_var1_0', 'num_var1', 'num_var4', 'num_var5_0', 'num_var5', 'num_var6_0', 'num_var6', 'num_var8_0', 'num_var8', 'num_var12_0', 'num_var12', 'num_var13_0', 'num_var13_corto_0', 'num_var13_corto', 'num_var13_largo_0', 'num_var13_largo', 'num_var13_medio_0', 'num_var13_medio', 'num_var13', 'num_var14_0', 'num_var14', 'num_var17_0', 'num_var17', 'num_var18_0', 'num_var18', 'num_var20_0', 'num_var20', 'num_var24_0', 'num_var24', 'num_var26_0', 'num_var26', 'num_var25_0', 'num_var25', 'num_op_var40_hace2', 'num_op_var40_hace3', 'num_op_var40_ult1', 'num_op_var40_ult3', 'num_op_var41_hace2', 'num_op_var41_hace3', 'num_op_var41_ult1', 'num_op_var41_ult3', 'num_op_var39_hace2', 'num_op_var39_hace3', 'num_op_var39_ult1', 'num_op_var39_ult3', 'num_var27_0', 'num_var28_0', 'num_var28', 'num_var27', 'num_var29_0', 'num_var29', 'num_var30_0', 'num_var30', 'num_var31_0', 'num_var31', 'num_var32_0', 'num_var32', 'num_var33_0', 'num_var33', 'num_var34_0', 'num_var34', 'num_var35', 'num_var37_med_ult2', 'num_var37_0', 'num_var37', 'num_var39_0', 'num_var40_0', 'num_var40', 'num_var41_0', 'num_var41', 'num_var39', 'num_var42_0', 'num_var42', 'num_var44_0', 'num_var44', 'num_var46_0', 'num_var46', 'saldo_var1', 'saldo_var5', 'saldo_var6', 'saldo_var8', 'saldo_var12', 'saldo_var13_corto', 'saldo_var13_largo', 'saldo_var13_medio', 'saldo_var13', 'saldo_var14', 'saldo_var17', 'saldo_var18', 'saldo_var20', 'saldo_var24', 'saldo_var26', 'saldo_var25', 'saldo_var28', 'saldo_var27', 'saldo_var29', 'saldo_var30', 'saldo_var31', 'saldo_var32', 'saldo_var33', 'saldo_var34', 'saldo_var37', 'saldo_var40', 'saldo_var41', 'saldo_var42', 'saldo_var44', 'saldo_var46', 'var36', 'delta_imp_amort_var18_1y3', 'delta_imp_amort_var34_1y3', 'delta_imp_aport_var13_1y3', 'delta_imp_aport_var17_1y3', 'delta_imp_aport_var33_1y3', 'delta_imp_compra_var44_1y3', 'delta_imp_reemb_var13_1y3', 'delta_imp_reemb_var17_1y3', 'delta_imp_reemb_var33_1y3', 'delta_imp_trasp_var17_in_1y3', 'delta_imp_trasp_var17_out_1y3', 'delta_imp_trasp_var33_in_1y3', 'delta_imp_trasp_var33_out_1y3', 'delta_imp_venta_var44_1y3', 'delta_num_aport_var13_1y3', 'delta_num_aport_var17_1y3', 'delta_num_aport_var33_1y3', 'delta_num_compra_var44_1y3', 'delta_num_reemb_var13_1y3', 'delta_num_reemb_var17_1y3', 'delta_num_reemb_var33_1y3', 'delta_num_trasp_var17_in_1y3', 'delta_num_trasp_var17_out_1y3', 'delta_num_trasp_var33_in_1y3', 'delta_num_trasp_var33_out_1y3', 'delta_num_venta_var44_1y3', 'imp_amort_var18_hace3', 'imp_amort_var18_ult1', 'imp_amort_var34_hace3', 'imp_amort_var34_ult1', 'imp_aport_var13_hace3', 'imp_aport_var13_ult1', 'imp_aport_var17_hace3', 'imp_aport_var17_ult1', 'imp_aport_var33_hace3', 'imp_aport_var33_ult1', 'imp_var7_emit_ult1', 'imp_var7_recib_ult1', 'imp_compra_var44_hace3', 'imp_compra_var44_ult1', 'imp_reemb_var13_hace3', 'imp_reemb_var13_ult1', 'imp_reemb_var17_hace3', 'imp_reemb_var17_ult1', 'imp_reemb_var33_hace3', 'imp_reemb_var33_ult1', 'imp_var43_emit_ult1', 'imp_trans_var37_ult1', 'imp_trasp_var17_in_hace3', 'imp_trasp_var17_in_ult1', 'imp_trasp_var17_out_hace3', 'imp_trasp_var17_out_ult1', 'imp_trasp_var33_in_hace3', 'imp_trasp_var33_in_ult1', 'imp_trasp_var33_out_hace3', 'imp_trasp_var33_out_ult1', 'imp_venta_var44_hace3', 'imp_venta_var44_ult1', 'ind_var7_emit_ult1', 'ind_var7_recib_ult1', 'ind_var10_ult1', 'ind_var10cte_ult1', 'ind_var9_cte_ult1', 'ind_var9_ult1', 'ind_var43_emit_ult1', 'ind_var43_recib_ult1', 'var21', 'num_var2_0_ult1', 'num_var2_ult1', 'num_aport_var13_hace3', 'num_aport_var13_ult1', 'num_aport_var17_hace3', 'num_aport_var17_ult1', 'num_aport_var33_hace3', 'num_aport_var33_ult1', 'num_var7_emit_ult1', 'num_var7_recib_ult1', 'num_compra_var44_hace3', 'num_compra_var44_ult1', 'num_ent_var16_ult1', 'num_var22_hace2', 'num_var22_hace3', 'num_var22_ult1', 'num_var22_ult3', 'num_med_var22_ult3', 'num_med_var45_ult3', 'num_meses_var5_ult3', 'num_meses_var8_ult3', 'num_meses_var12_ult3', 'num_meses_var13_corto_ult3', 'num_meses_var13_largo_ult3', 'num_meses_var13_medio_ult3', 'num_meses_var17_ult3', 'num_meses_var29_ult3', 'num_meses_var33_ult3', 'num_meses_var39_vig_ult3', 'num_meses_var44_ult3', 'num_op_var39_comer_ult1', 'num_op_var39_comer_ult3', 'num_op_var40_comer_ult1', 'num_op_var40_comer_ult3', 'num_op_var40_efect_ult1', 'num_op_var40_efect_ult3', 'num_op_var41_comer_ult1', 'num_op_var41_comer_ult3', 'num_op_var41_efect_ult1', 'num_op_var41_efect_ult3', 'num_op_var39_efect_ult1', 'num_op_var39_efect_ult3', 'num_reemb_var13_hace3', 'num_reemb_var13_ult1', 'num_reemb_var17_hace3', 'num_reemb_var17_ult1', 'num_reemb_var33_hace3', 'num_reemb_var33_ult1', 'num_sal_var16_ult1', 'num_var43_emit_ult1', 'num_var43_recib_ult1', 'num_trasp_var11_ult1', 'num_trasp_var17_in_hace3', 'num_trasp_var17_in_ult1', 'num_trasp_var17_out_hace3', 'num_trasp_var17_out_ult1', 'num_trasp_var33_in_hace3', 'num_trasp_var33_in_ult1', 'num_trasp_var33_out_hace3', 'num_trasp_var33_out_ult1', 'num_venta_var44_hace3', 'num_venta_var44_ult1', 'num_var45_hace2', 'num_var45_hace3', 'num_var45_ult1', 'num_var45_ult3', 'saldo_var2_ult1', 'saldo_medio_var5_hace2', 'saldo_medio_var5_hace3', 'saldo_medio_var5_ult1', 'saldo_medio_var5_ult3', 'saldo_medio_var8_hace2', 'saldo_medio_var8_hace3', 'saldo_medio_var8_ult1', 'saldo_medio_var8_ult3', 'saldo_medio_var12_hace2', 'saldo_medio_var12_hace3', 'saldo_medio_var12_ult1', 'saldo_medio_var12_ult3', 'saldo_medio_var13_corto_hace2', 'saldo_medio_var13_corto_hace3', 'saldo_medio_var13_corto_ult1', 'saldo_medio_var13_corto_ult3', 'saldo_medio_var13_largo_hace2', 'saldo_medio_var13_largo_hace3', 'saldo_medio_var13_largo_ult1', 'saldo_medio_var13_largo_ult3', 'saldo_medio_var13_medio_hace2', 'saldo_medio_var13_medio_hace3', 'saldo_medio_var13_medio_ult1', 'saldo_medio_var13_medio_ult3', 'saldo_medio_var17_hace2', 'saldo_medio_var17_hace3', 'saldo_medio_var17_ult1', 'saldo_medio_var17_ult3', 'saldo_medio_var29_hace2', 'saldo_medio_var29_hace3', 'saldo_medio_var29_ult1', 'saldo_medio_var29_ult3', 'saldo_medio_var33_hace2', 'saldo_medio_var33_hace3', 'saldo_medio_var33_ult1', 'saldo_medio_var33_ult3', 'saldo_medio_var44_hace2', 'saldo_medio_var44_hace3', 'saldo_medio_var44_ult1', 'saldo_medio_var44_ult3', 'var38']\n"
          ]
        }
      ]
    },
    {
      "cell_type": "code",
      "source": [
        "#Removing 'Target' column\n",
        "\n",
        "Xtrain = training[TrainCols[0:len(TrainCols)-1]].copy()\n",
        "Ytrain = training[['TARGET']].copy()\n",
        "print(Xtrain.shape)\n",
        "print(Ytrain.shape)\n",
        "Xtest = test.copy()"
      ],
      "metadata": {
        "colab": {
          "base_uri": "https://localhost:8080/"
        },
        "id": "yNwgxAmNTLY5",
        "outputId": "057216d1-9534-4915-b671-7594d58c0d8d"
      },
      "execution_count": null,
      "outputs": [
        {
          "output_type": "stream",
          "name": "stdout",
          "text": [
            "(76020, 370)\n",
            "(76020, 1)\n"
          ]
        }
      ]
    },
    {
      "cell_type": "markdown",
      "source": [
        "Printing the distribution of target class values"
      ],
      "metadata": {
        "id": "r85ZLG6oFBDU"
      }
    },
    {
      "cell_type": "code",
      "source": [
        "training[\"TARGET\"].value_counts()"
      ],
      "metadata": {
        "colab": {
          "base_uri": "https://localhost:8080/"
        },
        "id": "W5dRdfKhpSln",
        "outputId": "f1f6f11c-8fa3-4004-88d7-e47b26107c90"
      },
      "execution_count": null,
      "outputs": [
        {
          "output_type": "execute_result",
          "data": {
            "text/plain": [
              "0    73012\n",
              "1     3008\n",
              "Name: TARGET, dtype: int64"
            ]
          },
          "metadata": {},
          "execution_count": 11
        }
      ]
    },
    {
      "cell_type": "markdown",
      "source": [
        "Performing **Feature Selection** using\n",
        "\n",
        "*   Variance Threshold: Removing constant columns\n",
        "*   Correlation matrix: Removing highly correlated columns\n",
        "\n",
        "The objective is to provide only important columns to the classifier to avoid over-fitting.\n",
        "\n"
      ],
      "metadata": {
        "id": "4VwGT-lZf87J"
      }
    },
    {
      "cell_type": "code",
      "source": [
        "# test = pd.read_csv(\"/gdrive/MyDrive/CIS508/Santander/Santander Customer Satisfaction - TEST-Without TARGET.csv\")\n",
        "# training = pd.read_csv(\"/gdrive/MyDrive/CIS508/Santander/Santander Customer Satisfaction - TRAIN.csv\")"
      ],
      "metadata": {
        "id": "_GTpikKP-R6U"
      },
      "execution_count": null,
      "outputs": []
    },
    {
      "cell_type": "code",
      "source": [
        "X_train, X_test, Y_train, Y_test = train_test_split(Xtrain, Ytrain, test_size = 0.2 , random_state = 1, stratify = Ytrain)"
      ],
      "metadata": {
        "id": "I37vBBYlWoxn"
      },
      "execution_count": null,
      "outputs": []
    },
    {
      "cell_type": "code",
      "source": [
        "# X_test.shape"
      ],
      "metadata": {
        "id": "6nsvQ7GFNd4D"
      },
      "execution_count": null,
      "outputs": []
    },
    {
      "cell_type": "code",
      "source": [
        "# X_train"
      ],
      "metadata": {
        "id": "NTM3jFBNreK5"
      },
      "execution_count": null,
      "outputs": []
    },
    {
      "cell_type": "markdown",
      "source": [
        "Removing columns using Variance Threshold"
      ],
      "metadata": {
        "id": "x4MAdwHtDBSC"
      }
    },
    {
      "cell_type": "code",
      "source": [
        "var_threshold = VarianceThreshold(threshold=0)\n",
        "var_threshold.fit(X_train)"
      ],
      "metadata": {
        "id": "D3GaqrpTWo1w",
        "colab": {
          "base_uri": "https://localhost:8080/"
        },
        "outputId": "0955cc43-535c-4c6c-b2e0-12c50e85bf44"
      },
      "execution_count": null,
      "outputs": [
        {
          "output_type": "execute_result",
          "data": {
            "text/plain": [
              "VarianceThreshold(threshold=0)"
            ]
          },
          "metadata": {},
          "execution_count": 14
        }
      ]
    },
    {
      "cell_type": "code",
      "source": [
        "#In the below code, true indicates that a particular feature is\n",
        "# very important and false indicates that a particular feature is\n",
        "# not so important with respect to the target feature.\n",
        "var_threshold.get_support()"
      ],
      "metadata": {
        "id": "bR_1F_LmWo3z",
        "colab": {
          "base_uri": "https://localhost:8080/"
        },
        "outputId": "258920f2-097e-47d5-d4b9-e271cfa57f99"
      },
      "execution_count": null,
      "outputs": [
        {
          "output_type": "execute_result",
          "data": {
            "text/plain": [
              "array([ True,  True,  True,  True,  True,  True,  True,  True,  True,\n",
              "        True,  True,  True,  True,  True,  True,  True,  True,  True,\n",
              "        True,  True,  True,  True, False, False,  True,  True,  True,\n",
              "        True,  True,  True,  True,  True,  True,  True,  True,  True,\n",
              "        True,  True,  True,  True,  True,  True,  True,  True,  True,\n",
              "        True,  True,  True,  True,  True,  True,  True,  True,  True,\n",
              "        True,  True,  True, False, False, False, False,  True,  True,\n",
              "        True,  True,  True,  True,  True,  True,  True,  True,  True,\n",
              "        True,  True,  True,  True,  True,  True,  True,  True,  True,\n",
              "       False,  True,  True,  True, False, False,  True,  True,  True,\n",
              "        True,  True,  True,  True,  True,  True,  True,  True,  True,\n",
              "        True,  True,  True,  True,  True,  True,  True,  True,  True,\n",
              "        True,  True,  True,  True,  True,  True,  True,  True,  True,\n",
              "        True,  True,  True,  True,  True,  True,  True,  True,  True,\n",
              "        True,  True,  True,  True,  True,  True, False, False, False,\n",
              "       False,  True,  True,  True,  True,  True,  True,  True,  True,\n",
              "        True,  True,  True,  True,  True,  True,  True,  True,  True,\n",
              "        True,  True,  True, False,  True,  True,  True,  True,  True,\n",
              "       False, False,  True,  True,  True,  True,  True,  True,  True,\n",
              "        True,  True,  True,  True,  True,  True,  True,  True,  True,\n",
              "       False, False,  True,  True,  True,  True,  True,  True,  True,\n",
              "        True, False,  True,  True, False,  True,  True,  True,  True,\n",
              "        True,  True,  True,  True,  True,  True,  True,  True,  True,\n",
              "       False,  True,  True,  True,  True,  True,  True,  True,  True,\n",
              "        True,  True,  True, False,  True, False,  True, False,  True,\n",
              "        True,  True,  True,  True,  True,  True,  True,  True,  True,\n",
              "        True, False,  True,  True,  True, False,  True,  True,  True,\n",
              "        True,  True, False,  True,  True,  True, False, False,  True,\n",
              "        True,  True,  True,  True,  True,  True,  True,  True,  True,\n",
              "        True, False, False,  True,  True,  True,  True,  True,  True,\n",
              "        True,  True,  True,  True,  True,  True,  True,  True,  True,\n",
              "        True,  True,  True,  True,  True,  True,  True,  True,  True,\n",
              "        True,  True,  True,  True,  True,  True,  True,  True,  True,\n",
              "        True,  True,  True,  True,  True,  True,  True, False,  True,\n",
              "        True,  True, False,  True,  True,  True,  True,  True,  True,\n",
              "        True, False,  True,  True,  True, False, False,  True,  True,\n",
              "        True,  True,  True,  True, False,  True,  True,  True,  True,\n",
              "        True,  True,  True,  True,  True,  True,  True,  True,  True,\n",
              "        True,  True,  True,  True,  True,  True,  True,  True, False,\n",
              "        True,  True,  True,  True,  True,  True,  True,  True,  True,\n",
              "        True,  True,  True,  True,  True,  True,  True,  True,  True,\n",
              "        True])"
            ]
          },
          "metadata": {},
          "execution_count": 15
        }
      ]
    },
    {
      "cell_type": "code",
      "source": [
        "constant_columns = [column for column in X_train.columns\n",
        "                    if column not in X_train.columns[var_threshold.get_support()]]\n",
        "# Printing constant columns\n",
        "for column in constant_columns:\n",
        "    print(column)\n",
        "print(len(constant_columns))\n",
        "            "
      ],
      "metadata": {
        "id": "ms3ltAjAWo6K",
        "colab": {
          "base_uri": "https://localhost:8080/"
        },
        "outputId": "a82ceda4-76dc-4042-d2e2-e1b802d5634d"
      },
      "execution_count": null,
      "outputs": [
        {
          "output_type": "stream",
          "name": "stdout",
          "text": [
            "ind_var2_0\n",
            "ind_var2\n",
            "ind_var27_0\n",
            "ind_var28_0\n",
            "ind_var28\n",
            "ind_var27\n",
            "ind_var41\n",
            "ind_var46_0\n",
            "ind_var46\n",
            "num_var27_0\n",
            "num_var28_0\n",
            "num_var28\n",
            "num_var27\n",
            "num_var41\n",
            "num_var46_0\n",
            "num_var46\n",
            "saldo_var28\n",
            "saldo_var27\n",
            "saldo_var41\n",
            "saldo_var46\n",
            "delta_imp_trasp_var33_out_1y3\n",
            "delta_num_trasp_var33_out_1y3\n",
            "imp_amort_var18_hace3\n",
            "imp_amort_var34_hace3\n",
            "imp_reemb_var13_hace3\n",
            "imp_reemb_var33_hace3\n",
            "imp_trasp_var17_out_hace3\n",
            "imp_trasp_var33_out_hace3\n",
            "imp_trasp_var33_out_ult1\n",
            "num_var2_0_ult1\n",
            "num_var2_ult1\n",
            "num_reemb_var13_hace3\n",
            "num_reemb_var33_hace3\n",
            "num_trasp_var17_out_hace3\n",
            "num_trasp_var33_out_hace3\n",
            "num_trasp_var33_out_ult1\n",
            "saldo_var2_ult1\n",
            "saldo_medio_var13_medio_hace3\n",
            "38\n"
          ]
        }
      ]
    },
    {
      "cell_type": "code",
      "source": [
        "# Drop constant columns\n",
        "X_train_removed =  X_train.drop(constant_columns,axis=1).copy()\n",
        "X_test_removed = X_test.drop(constant_columns, axis = 1).copy()"
      ],
      "metadata": {
        "id": "ySwZ6I3sWo8Q"
      },
      "execution_count": null,
      "outputs": []
    },
    {
      "cell_type": "code",
      "source": [
        "X_train_removed.shape"
      ],
      "metadata": {
        "id": "uAIuj-HVX40J",
        "colab": {
          "base_uri": "https://localhost:8080/"
        },
        "outputId": "7055977f-e835-4316-8802-8f3048be684a"
      },
      "execution_count": null,
      "outputs": [
        {
          "output_type": "execute_result",
          "data": {
            "text/plain": [
              "(60816, 332)"
            ]
          },
          "metadata": {},
          "execution_count": 18
        }
      ]
    },
    {
      "cell_type": "code",
      "source": [
        "X_test_removed.shape"
      ],
      "metadata": {
        "id": "JkNtwMMjui4l",
        "colab": {
          "base_uri": "https://localhost:8080/"
        },
        "outputId": "01235231-48f1-4532-acc2-a4c89ff67165"
      },
      "execution_count": null,
      "outputs": [
        {
          "output_type": "execute_result",
          "data": {
            "text/plain": [
              "(15204, 332)"
            ]
          },
          "metadata": {},
          "execution_count": 19
        }
      ]
    },
    {
      "cell_type": "markdown",
      "source": [
        "Now, we will remove features with high correlation"
      ],
      "metadata": {
        "id": "JqHOij0051AK"
      }
    },
    {
      "cell_type": "code",
      "source": [
        "X_train_removed.corr()"
      ],
      "metadata": {
        "id": "xm5rHWn_dYdU",
        "colab": {
          "base_uri": "https://localhost:8080/",
          "height": 488
        },
        "outputId": "08146a22-1106-431a-d74b-f0518ef5f8a9"
      },
      "execution_count": null,
      "outputs": [
        {
          "output_type": "execute_result",
          "data": {
            "text/plain": [
              "                               ID      var3     var15  imp_ent_var16_ult1  \\\n",
              "ID                       1.000000 -0.000524 -0.001064           -0.001886   \n",
              "var3                    -0.000524  1.000000 -0.005847            0.002089   \n",
              "var15                   -0.001064 -0.005847  1.000000            0.046300   \n",
              "imp_ent_var16_ult1      -0.001886  0.002089  0.046300            1.000000   \n",
              "imp_op_var39_comer_ult1 -0.001395  0.005310  0.092622            0.048642   \n",
              "...                           ...       ...       ...                 ...   \n",
              "saldo_medio_var44_hace2 -0.002119  0.000830  0.039350            0.007122   \n",
              "saldo_medio_var44_hace3 -0.002806  0.000472  0.012997           -0.000652   \n",
              "saldo_medio_var44_ult1   0.000668  0.000828  0.038447            0.010255   \n",
              "saldo_medio_var44_ult3   0.001870  0.000791  0.035112            0.011157   \n",
              "var38                   -0.003332  0.000026  0.006620            0.000886   \n",
              "\n",
              "                         imp_op_var39_comer_ult1  imp_op_var39_comer_ult3  \\\n",
              "ID                                     -0.001395                -0.003335   \n",
              "var3                                    0.005310                 0.006282   \n",
              "var15                                   0.092622                 0.099926   \n",
              "imp_ent_var16_ult1                      0.048642                 0.041472   \n",
              "imp_op_var39_comer_ult1                 1.000000                 0.883794   \n",
              "...                                          ...                      ...   \n",
              "saldo_medio_var44_hace2                 0.022494                 0.020325   \n",
              "saldo_medio_var44_hace3                 0.007622                 0.008770   \n",
              "saldo_medio_var44_ult1                  0.021095                 0.019305   \n",
              "saldo_medio_var44_ult3                  0.016383                 0.014880   \n",
              "var38                                   0.016633                 0.017525   \n",
              "\n",
              "                         imp_op_var40_comer_ult1  imp_op_var40_comer_ult3  \\\n",
              "ID                                     -0.005684                -0.005133   \n",
              "var3                                    0.001532                 0.001700   \n",
              "var15                                   0.042261                 0.048021   \n",
              "imp_ent_var16_ult1                      0.006112                 0.008149   \n",
              "imp_op_var39_comer_ult1                 0.346706                 0.295835   \n",
              "...                                          ...                      ...   \n",
              "saldo_medio_var44_hace2                -0.000478                -0.000706   \n",
              "saldo_medio_var44_hace3                -0.000463                -0.000508   \n",
              "saldo_medio_var44_ult1                 -0.000050                -0.000456   \n",
              "saldo_medio_var44_ult3                 -0.000246                -0.000552   \n",
              "var38                                   0.023765                 0.021582   \n",
              "\n",
              "                         imp_op_var40_efect_ult1  imp_op_var40_efect_ult3  \\\n",
              "ID                                     -0.006947                -0.007025   \n",
              "var3                                    0.000564                 0.000657   \n",
              "var15                                   0.009709                 0.010699   \n",
              "imp_ent_var16_ult1                      0.000883                 0.003490   \n",
              "imp_op_var39_comer_ult1                 0.036059                 0.061484   \n",
              "...                                          ...                      ...   \n",
              "saldo_medio_var44_hace2                -0.000310                -0.000361   \n",
              "saldo_medio_var44_hace3                -0.000173                -0.000201   \n",
              "saldo_medio_var44_ult1                 -0.000310                -0.000360   \n",
              "saldo_medio_var44_ult3                 -0.000296                -0.000344   \n",
              "var38                                  -0.000307                 0.001002   \n",
              "\n",
              "                         ...  saldo_medio_var29_ult3  saldo_medio_var33_hace2  \\\n",
              "ID                       ...               -0.008729                 0.000442   \n",
              "var3                     ...                0.000222                 0.000729   \n",
              "var15                    ...                0.008502                 0.029390   \n",
              "imp_ent_var16_ult1       ...                0.018669                -0.001026   \n",
              "imp_op_var39_comer_ult1  ...                0.003601                 0.017736   \n",
              "...                      ...                     ...                      ...   \n",
              "saldo_medio_var44_hace2  ...                0.013042                 0.002802   \n",
              "saldo_medio_var44_hace3  ...               -0.000068                -0.000213   \n",
              "saldo_medio_var44_ult1   ...                0.029411                 0.001557   \n",
              "saldo_medio_var44_ult3   ...                0.020546                 0.001522   \n",
              "var38                    ...               -0.000899                 0.005020   \n",
              "\n",
              "                         saldo_medio_var33_hace3  saldo_medio_var33_ult1  \\\n",
              "ID                                      0.004143               -0.002854   \n",
              "var3                                    0.000524                0.000632   \n",
              "var15                                   0.018348                0.028446   \n",
              "imp_ent_var16_ult1                     -0.000806               -0.000575   \n",
              "imp_op_var39_comer_ult1                 0.012609                0.012648   \n",
              "...                                          ...                     ...   \n",
              "saldo_medio_var44_hace2                -0.000275                0.006754   \n",
              "saldo_medio_var44_hace3                -0.000153               -0.000186   \n",
              "saldo_medio_var44_ult1                 -0.000275                0.003980   \n",
              "saldo_medio_var44_ult3                 -0.000263                0.003881   \n",
              "var38                                   0.001924                0.004859   \n",
              "\n",
              "                         saldo_medio_var33_ult3  saldo_medio_var44_hace2  \\\n",
              "ID                                    -0.002425                -0.002119   \n",
              "var3                                   0.000671                 0.000830   \n",
              "var15                                  0.029375                 0.039350   \n",
              "imp_ent_var16_ult1                    -0.000569                 0.007122   \n",
              "imp_op_var39_comer_ult1                0.014068                 0.022494   \n",
              "...                                         ...                      ...   \n",
              "saldo_medio_var44_hace2                0.005993                 1.000000   \n",
              "saldo_medio_var44_hace3               -0.000196                 0.230040   \n",
              "saldo_medio_var44_ult1                 0.003510                 0.695179   \n",
              "saldo_medio_var44_ult3                 0.003423                 0.599183   \n",
              "var38                                  0.004957                 0.005370   \n",
              "\n",
              "                         saldo_medio_var44_hace3  saldo_medio_var44_ult1  \\\n",
              "ID                                     -0.002806                0.000668   \n",
              "var3                                    0.000472                0.000828   \n",
              "var15                                   0.012997                0.038447   \n",
              "imp_ent_var16_ult1                     -0.000652                0.010255   \n",
              "imp_op_var39_comer_ult1                 0.007622                0.021095   \n",
              "...                                          ...                     ...   \n",
              "saldo_medio_var44_hace2                 0.230040                0.695179   \n",
              "saldo_medio_var44_hace3                 1.000000                0.149916   \n",
              "saldo_medio_var44_ult1                  0.149916                1.000000   \n",
              "saldo_medio_var44_ult3                  0.127051                0.977807   \n",
              "var38                                   0.003742                0.005413   \n",
              "\n",
              "                         saldo_medio_var44_ult3     var38  \n",
              "ID                                     0.001870 -0.003332  \n",
              "var3                                   0.000791  0.000026  \n",
              "var15                                  0.035112  0.006620  \n",
              "imp_ent_var16_ult1                     0.011157  0.000886  \n",
              "imp_op_var39_comer_ult1                0.016383  0.016633  \n",
              "...                                         ...       ...  \n",
              "saldo_medio_var44_hace2                0.599183  0.005370  \n",
              "saldo_medio_var44_hace3                0.127051  0.003742  \n",
              "saldo_medio_var44_ult1                 0.977807  0.005413  \n",
              "saldo_medio_var44_ult3                 1.000000  0.004225  \n",
              "var38                                  0.004225  1.000000  \n",
              "\n",
              "[332 rows x 332 columns]"
            ],
            "text/html": [
              "\n",
              "  <div id=\"df-97e01174-69ea-4661-a6dc-d630c3399845\">\n",
              "    <div class=\"colab-df-container\">\n",
              "      <div>\n",
              "<style scoped>\n",
              "    .dataframe tbody tr th:only-of-type {\n",
              "        vertical-align: middle;\n",
              "    }\n",
              "\n",
              "    .dataframe tbody tr th {\n",
              "        vertical-align: top;\n",
              "    }\n",
              "\n",
              "    .dataframe thead th {\n",
              "        text-align: right;\n",
              "    }\n",
              "</style>\n",
              "<table border=\"1\" class=\"dataframe\">\n",
              "  <thead>\n",
              "    <tr style=\"text-align: right;\">\n",
              "      <th></th>\n",
              "      <th>ID</th>\n",
              "      <th>var3</th>\n",
              "      <th>var15</th>\n",
              "      <th>imp_ent_var16_ult1</th>\n",
              "      <th>imp_op_var39_comer_ult1</th>\n",
              "      <th>imp_op_var39_comer_ult3</th>\n",
              "      <th>imp_op_var40_comer_ult1</th>\n",
              "      <th>imp_op_var40_comer_ult3</th>\n",
              "      <th>imp_op_var40_efect_ult1</th>\n",
              "      <th>imp_op_var40_efect_ult3</th>\n",
              "      <th>...</th>\n",
              "      <th>saldo_medio_var29_ult3</th>\n",
              "      <th>saldo_medio_var33_hace2</th>\n",
              "      <th>saldo_medio_var33_hace3</th>\n",
              "      <th>saldo_medio_var33_ult1</th>\n",
              "      <th>saldo_medio_var33_ult3</th>\n",
              "      <th>saldo_medio_var44_hace2</th>\n",
              "      <th>saldo_medio_var44_hace3</th>\n",
              "      <th>saldo_medio_var44_ult1</th>\n",
              "      <th>saldo_medio_var44_ult3</th>\n",
              "      <th>var38</th>\n",
              "    </tr>\n",
              "  </thead>\n",
              "  <tbody>\n",
              "    <tr>\n",
              "      <th>ID</th>\n",
              "      <td>1.000000</td>\n",
              "      <td>-0.000524</td>\n",
              "      <td>-0.001064</td>\n",
              "      <td>-0.001886</td>\n",
              "      <td>-0.001395</td>\n",
              "      <td>-0.003335</td>\n",
              "      <td>-0.005684</td>\n",
              "      <td>-0.005133</td>\n",
              "      <td>-0.006947</td>\n",
              "      <td>-0.007025</td>\n",
              "      <td>...</td>\n",
              "      <td>-0.008729</td>\n",
              "      <td>0.000442</td>\n",
              "      <td>0.004143</td>\n",
              "      <td>-0.002854</td>\n",
              "      <td>-0.002425</td>\n",
              "      <td>-0.002119</td>\n",
              "      <td>-0.002806</td>\n",
              "      <td>0.000668</td>\n",
              "      <td>0.001870</td>\n",
              "      <td>-0.003332</td>\n",
              "    </tr>\n",
              "    <tr>\n",
              "      <th>var3</th>\n",
              "      <td>-0.000524</td>\n",
              "      <td>1.000000</td>\n",
              "      <td>-0.005847</td>\n",
              "      <td>0.002089</td>\n",
              "      <td>0.005310</td>\n",
              "      <td>0.006282</td>\n",
              "      <td>0.001532</td>\n",
              "      <td>0.001700</td>\n",
              "      <td>0.000564</td>\n",
              "      <td>0.000657</td>\n",
              "      <td>...</td>\n",
              "      <td>0.000222</td>\n",
              "      <td>0.000729</td>\n",
              "      <td>0.000524</td>\n",
              "      <td>0.000632</td>\n",
              "      <td>0.000671</td>\n",
              "      <td>0.000830</td>\n",
              "      <td>0.000472</td>\n",
              "      <td>0.000828</td>\n",
              "      <td>0.000791</td>\n",
              "      <td>0.000026</td>\n",
              "    </tr>\n",
              "    <tr>\n",
              "      <th>var15</th>\n",
              "      <td>-0.001064</td>\n",
              "      <td>-0.005847</td>\n",
              "      <td>1.000000</td>\n",
              "      <td>0.046300</td>\n",
              "      <td>0.092622</td>\n",
              "      <td>0.099926</td>\n",
              "      <td>0.042261</td>\n",
              "      <td>0.048021</td>\n",
              "      <td>0.009709</td>\n",
              "      <td>0.010699</td>\n",
              "      <td>...</td>\n",
              "      <td>0.008502</td>\n",
              "      <td>0.029390</td>\n",
              "      <td>0.018348</td>\n",
              "      <td>0.028446</td>\n",
              "      <td>0.029375</td>\n",
              "      <td>0.039350</td>\n",
              "      <td>0.012997</td>\n",
              "      <td>0.038447</td>\n",
              "      <td>0.035112</td>\n",
              "      <td>0.006620</td>\n",
              "    </tr>\n",
              "    <tr>\n",
              "      <th>imp_ent_var16_ult1</th>\n",
              "      <td>-0.001886</td>\n",
              "      <td>0.002089</td>\n",
              "      <td>0.046300</td>\n",
              "      <td>1.000000</td>\n",
              "      <td>0.048642</td>\n",
              "      <td>0.041472</td>\n",
              "      <td>0.006112</td>\n",
              "      <td>0.008149</td>\n",
              "      <td>0.000883</td>\n",
              "      <td>0.003490</td>\n",
              "      <td>...</td>\n",
              "      <td>0.018669</td>\n",
              "      <td>-0.001026</td>\n",
              "      <td>-0.000806</td>\n",
              "      <td>-0.000575</td>\n",
              "      <td>-0.000569</td>\n",
              "      <td>0.007122</td>\n",
              "      <td>-0.000652</td>\n",
              "      <td>0.010255</td>\n",
              "      <td>0.011157</td>\n",
              "      <td>0.000886</td>\n",
              "    </tr>\n",
              "    <tr>\n",
              "      <th>imp_op_var39_comer_ult1</th>\n",
              "      <td>-0.001395</td>\n",
              "      <td>0.005310</td>\n",
              "      <td>0.092622</td>\n",
              "      <td>0.048642</td>\n",
              "      <td>1.000000</td>\n",
              "      <td>0.883794</td>\n",
              "      <td>0.346706</td>\n",
              "      <td>0.295835</td>\n",
              "      <td>0.036059</td>\n",
              "      <td>0.061484</td>\n",
              "      <td>...</td>\n",
              "      <td>0.003601</td>\n",
              "      <td>0.017736</td>\n",
              "      <td>0.012609</td>\n",
              "      <td>0.012648</td>\n",
              "      <td>0.014068</td>\n",
              "      <td>0.022494</td>\n",
              "      <td>0.007622</td>\n",
              "      <td>0.021095</td>\n",
              "      <td>0.016383</td>\n",
              "      <td>0.016633</td>\n",
              "    </tr>\n",
              "    <tr>\n",
              "      <th>...</th>\n",
              "      <td>...</td>\n",
              "      <td>...</td>\n",
              "      <td>...</td>\n",
              "      <td>...</td>\n",
              "      <td>...</td>\n",
              "      <td>...</td>\n",
              "      <td>...</td>\n",
              "      <td>...</td>\n",
              "      <td>...</td>\n",
              "      <td>...</td>\n",
              "      <td>...</td>\n",
              "      <td>...</td>\n",
              "      <td>...</td>\n",
              "      <td>...</td>\n",
              "      <td>...</td>\n",
              "      <td>...</td>\n",
              "      <td>...</td>\n",
              "      <td>...</td>\n",
              "      <td>...</td>\n",
              "      <td>...</td>\n",
              "      <td>...</td>\n",
              "    </tr>\n",
              "    <tr>\n",
              "      <th>saldo_medio_var44_hace2</th>\n",
              "      <td>-0.002119</td>\n",
              "      <td>0.000830</td>\n",
              "      <td>0.039350</td>\n",
              "      <td>0.007122</td>\n",
              "      <td>0.022494</td>\n",
              "      <td>0.020325</td>\n",
              "      <td>-0.000478</td>\n",
              "      <td>-0.000706</td>\n",
              "      <td>-0.000310</td>\n",
              "      <td>-0.000361</td>\n",
              "      <td>...</td>\n",
              "      <td>0.013042</td>\n",
              "      <td>0.002802</td>\n",
              "      <td>-0.000275</td>\n",
              "      <td>0.006754</td>\n",
              "      <td>0.005993</td>\n",
              "      <td>1.000000</td>\n",
              "      <td>0.230040</td>\n",
              "      <td>0.695179</td>\n",
              "      <td>0.599183</td>\n",
              "      <td>0.005370</td>\n",
              "    </tr>\n",
              "    <tr>\n",
              "      <th>saldo_medio_var44_hace3</th>\n",
              "      <td>-0.002806</td>\n",
              "      <td>0.000472</td>\n",
              "      <td>0.012997</td>\n",
              "      <td>-0.000652</td>\n",
              "      <td>0.007622</td>\n",
              "      <td>0.008770</td>\n",
              "      <td>-0.000463</td>\n",
              "      <td>-0.000508</td>\n",
              "      <td>-0.000173</td>\n",
              "      <td>-0.000201</td>\n",
              "      <td>...</td>\n",
              "      <td>-0.000068</td>\n",
              "      <td>-0.000213</td>\n",
              "      <td>-0.000153</td>\n",
              "      <td>-0.000186</td>\n",
              "      <td>-0.000196</td>\n",
              "      <td>0.230040</td>\n",
              "      <td>1.000000</td>\n",
              "      <td>0.149916</td>\n",
              "      <td>0.127051</td>\n",
              "      <td>0.003742</td>\n",
              "    </tr>\n",
              "    <tr>\n",
              "      <th>saldo_medio_var44_ult1</th>\n",
              "      <td>0.000668</td>\n",
              "      <td>0.000828</td>\n",
              "      <td>0.038447</td>\n",
              "      <td>0.010255</td>\n",
              "      <td>0.021095</td>\n",
              "      <td>0.019305</td>\n",
              "      <td>-0.000050</td>\n",
              "      <td>-0.000456</td>\n",
              "      <td>-0.000310</td>\n",
              "      <td>-0.000360</td>\n",
              "      <td>...</td>\n",
              "      <td>0.029411</td>\n",
              "      <td>0.001557</td>\n",
              "      <td>-0.000275</td>\n",
              "      <td>0.003980</td>\n",
              "      <td>0.003510</td>\n",
              "      <td>0.695179</td>\n",
              "      <td>0.149916</td>\n",
              "      <td>1.000000</td>\n",
              "      <td>0.977807</td>\n",
              "      <td>0.005413</td>\n",
              "    </tr>\n",
              "    <tr>\n",
              "      <th>saldo_medio_var44_ult3</th>\n",
              "      <td>0.001870</td>\n",
              "      <td>0.000791</td>\n",
              "      <td>0.035112</td>\n",
              "      <td>0.011157</td>\n",
              "      <td>0.016383</td>\n",
              "      <td>0.014880</td>\n",
              "      <td>-0.000246</td>\n",
              "      <td>-0.000552</td>\n",
              "      <td>-0.000296</td>\n",
              "      <td>-0.000344</td>\n",
              "      <td>...</td>\n",
              "      <td>0.020546</td>\n",
              "      <td>0.001522</td>\n",
              "      <td>-0.000263</td>\n",
              "      <td>0.003881</td>\n",
              "      <td>0.003423</td>\n",
              "      <td>0.599183</td>\n",
              "      <td>0.127051</td>\n",
              "      <td>0.977807</td>\n",
              "      <td>1.000000</td>\n",
              "      <td>0.004225</td>\n",
              "    </tr>\n",
              "    <tr>\n",
              "      <th>var38</th>\n",
              "      <td>-0.003332</td>\n",
              "      <td>0.000026</td>\n",
              "      <td>0.006620</td>\n",
              "      <td>0.000886</td>\n",
              "      <td>0.016633</td>\n",
              "      <td>0.017525</td>\n",
              "      <td>0.023765</td>\n",
              "      <td>0.021582</td>\n",
              "      <td>-0.000307</td>\n",
              "      <td>0.001002</td>\n",
              "      <td>...</td>\n",
              "      <td>-0.000899</td>\n",
              "      <td>0.005020</td>\n",
              "      <td>0.001924</td>\n",
              "      <td>0.004859</td>\n",
              "      <td>0.004957</td>\n",
              "      <td>0.005370</td>\n",
              "      <td>0.003742</td>\n",
              "      <td>0.005413</td>\n",
              "      <td>0.004225</td>\n",
              "      <td>1.000000</td>\n",
              "    </tr>\n",
              "  </tbody>\n",
              "</table>\n",
              "<p>332 rows × 332 columns</p>\n",
              "</div>\n",
              "      <button class=\"colab-df-convert\" onclick=\"convertToInteractive('df-97e01174-69ea-4661-a6dc-d630c3399845')\"\n",
              "              title=\"Convert this dataframe to an interactive table.\"\n",
              "              style=\"display:none;\">\n",
              "        \n",
              "  <svg xmlns=\"http://www.w3.org/2000/svg\" height=\"24px\"viewBox=\"0 0 24 24\"\n",
              "       width=\"24px\">\n",
              "    <path d=\"M0 0h24v24H0V0z\" fill=\"none\"/>\n",
              "    <path d=\"M18.56 5.44l.94 2.06.94-2.06 2.06-.94-2.06-.94-.94-2.06-.94 2.06-2.06.94zm-11 1L8.5 8.5l.94-2.06 2.06-.94-2.06-.94L8.5 2.5l-.94 2.06-2.06.94zm10 10l.94 2.06.94-2.06 2.06-.94-2.06-.94-.94-2.06-.94 2.06-2.06.94z\"/><path d=\"M17.41 7.96l-1.37-1.37c-.4-.4-.92-.59-1.43-.59-.52 0-1.04.2-1.43.59L10.3 9.45l-7.72 7.72c-.78.78-.78 2.05 0 2.83L4 21.41c.39.39.9.59 1.41.59.51 0 1.02-.2 1.41-.59l7.78-7.78 2.81-2.81c.8-.78.8-2.07 0-2.86zM5.41 20L4 18.59l7.72-7.72 1.47 1.35L5.41 20z\"/>\n",
              "  </svg>\n",
              "      </button>\n",
              "      \n",
              "  <style>\n",
              "    .colab-df-container {\n",
              "      display:flex;\n",
              "      flex-wrap:wrap;\n",
              "      gap: 12px;\n",
              "    }\n",
              "\n",
              "    .colab-df-convert {\n",
              "      background-color: #E8F0FE;\n",
              "      border: none;\n",
              "      border-radius: 50%;\n",
              "      cursor: pointer;\n",
              "      display: none;\n",
              "      fill: #1967D2;\n",
              "      height: 32px;\n",
              "      padding: 0 0 0 0;\n",
              "      width: 32px;\n",
              "    }\n",
              "\n",
              "    .colab-df-convert:hover {\n",
              "      background-color: #E2EBFA;\n",
              "      box-shadow: 0px 1px 2px rgba(60, 64, 67, 0.3), 0px 1px 3px 1px rgba(60, 64, 67, 0.15);\n",
              "      fill: #174EA6;\n",
              "    }\n",
              "\n",
              "    [theme=dark] .colab-df-convert {\n",
              "      background-color: #3B4455;\n",
              "      fill: #D2E3FC;\n",
              "    }\n",
              "\n",
              "    [theme=dark] .colab-df-convert:hover {\n",
              "      background-color: #434B5C;\n",
              "      box-shadow: 0px 1px 3px 1px rgba(0, 0, 0, 0.15);\n",
              "      filter: drop-shadow(0px 1px 2px rgba(0, 0, 0, 0.3));\n",
              "      fill: #FFFFFF;\n",
              "    }\n",
              "  </style>\n",
              "\n",
              "      <script>\n",
              "        const buttonEl =\n",
              "          document.querySelector('#df-97e01174-69ea-4661-a6dc-d630c3399845 button.colab-df-convert');\n",
              "        buttonEl.style.display =\n",
              "          google.colab.kernel.accessAllowed ? 'block' : 'none';\n",
              "\n",
              "        async function convertToInteractive(key) {\n",
              "          const element = document.querySelector('#df-97e01174-69ea-4661-a6dc-d630c3399845');\n",
              "          const dataTable =\n",
              "            await google.colab.kernel.invokeFunction('convertToInteractive',\n",
              "                                                     [key], {});\n",
              "          if (!dataTable) return;\n",
              "\n",
              "          const docLinkHtml = 'Like what you see? Visit the ' +\n",
              "            '<a target=\"_blank\" href=https://colab.research.google.com/notebooks/data_table.ipynb>data table notebook</a>'\n",
              "            + ' to learn more about interactive tables.';\n",
              "          element.innerHTML = '';\n",
              "          dataTable['output_type'] = 'display_data';\n",
              "          await google.colab.output.renderOutput(dataTable, element);\n",
              "          const docLink = document.createElement('div');\n",
              "          docLink.innerHTML = docLinkHtml;\n",
              "          element.appendChild(docLink);\n",
              "        }\n",
              "      </script>\n",
              "    </div>\n",
              "  </div>\n",
              "  "
            ]
          },
          "metadata": {},
          "execution_count": 20
        }
      ]
    },
    {
      "cell_type": "code",
      "source": [
        "import seaborn as sns\n",
        "#Using Pearson Correlation\n",
        "plt.figure(figsize=(12,10))\n",
        "cor = X_train_removed.corr()\n",
        "sns.heatmap(cor, annot=True, cmap=plt.cm.CMRmap_r)\n",
        "plt.show()"
      ],
      "metadata": {
        "id": "qSFnl9xKdYhg",
        "colab": {
          "base_uri": "https://localhost:8080/",
          "height": 240
        },
        "outputId": "f0640d67-41ad-4ff1-c8ef-4f79870eabae"
      },
      "execution_count": null,
      "outputs": [
        {
          "output_type": "error",
          "ename": "NameError",
          "evalue": "ignored",
          "traceback": [
            "\u001b[0;31m---------------------------------------------------------------------------\u001b[0m",
            "\u001b[0;31mNameError\u001b[0m                                 Traceback (most recent call last)",
            "\u001b[0;32m<ipython-input-22-7d97c8131f0e>\u001b[0m in \u001b[0;36m<module>\u001b[0;34m\u001b[0m\n\u001b[1;32m      1\u001b[0m \u001b[0;32mimport\u001b[0m \u001b[0mseaborn\u001b[0m \u001b[0;32mas\u001b[0m \u001b[0msns\u001b[0m\u001b[0;34m\u001b[0m\u001b[0;34m\u001b[0m\u001b[0m\n\u001b[1;32m      2\u001b[0m \u001b[0;31m#Using Pearson Correlation\u001b[0m\u001b[0;34m\u001b[0m\u001b[0;34m\u001b[0m\u001b[0;34m\u001b[0m\u001b[0m\n\u001b[0;32m----> 3\u001b[0;31m \u001b[0mplt\u001b[0m\u001b[0;34m.\u001b[0m\u001b[0mfigure\u001b[0m\u001b[0;34m(\u001b[0m\u001b[0mfigsize\u001b[0m\u001b[0;34m=\u001b[0m\u001b[0;34m(\u001b[0m\u001b[0;36m12\u001b[0m\u001b[0;34m,\u001b[0m\u001b[0;36m10\u001b[0m\u001b[0;34m)\u001b[0m\u001b[0;34m)\u001b[0m\u001b[0;34m\u001b[0m\u001b[0;34m\u001b[0m\u001b[0m\n\u001b[0m\u001b[1;32m      4\u001b[0m \u001b[0mcor\u001b[0m \u001b[0;34m=\u001b[0m \u001b[0mX_train_removed\u001b[0m\u001b[0;34m.\u001b[0m\u001b[0mcorr\u001b[0m\u001b[0;34m(\u001b[0m\u001b[0;34m)\u001b[0m\u001b[0;34m\u001b[0m\u001b[0;34m\u001b[0m\u001b[0m\n\u001b[1;32m      5\u001b[0m \u001b[0msns\u001b[0m\u001b[0;34m.\u001b[0m\u001b[0mheatmap\u001b[0m\u001b[0;34m(\u001b[0m\u001b[0mcor\u001b[0m\u001b[0;34m,\u001b[0m \u001b[0mannot\u001b[0m\u001b[0;34m=\u001b[0m\u001b[0;32mTrue\u001b[0m\u001b[0;34m,\u001b[0m \u001b[0mcmap\u001b[0m\u001b[0;34m=\u001b[0m\u001b[0mplt\u001b[0m\u001b[0;34m.\u001b[0m\u001b[0mcm\u001b[0m\u001b[0;34m.\u001b[0m\u001b[0mCMRmap_r\u001b[0m\u001b[0;34m)\u001b[0m\u001b[0;34m\u001b[0m\u001b[0;34m\u001b[0m\u001b[0m\n",
            "\u001b[0;31mNameError\u001b[0m: name 'plt' is not defined"
          ]
        }
      ]
    },
    {
      "cell_type": "code",
      "source": [
        "def correlation(dataset, threshold):\n",
        "    col_corr = set()  # Set of all the names of correlated columns\n",
        "    corr_matrix = dataset.corr()\n",
        "    for i in range(len(corr_matrix.columns)):\n",
        "        for j in range(i):\n",
        "            if abs(corr_matrix.iloc[i, j]) > threshold: # we are interested in absolute coeff value\n",
        "                colname = corr_matrix.columns[i]  # getting the name of column\n",
        "                col_corr.add(colname)\n",
        "    return col_corr"
      ],
      "metadata": {
        "id": "kmcVHm68dYjp"
      },
      "execution_count": null,
      "outputs": []
    },
    {
      "cell_type": "code",
      "source": [
        "high_cor_col = correlation(X_train_removed, 0.8)"
      ],
      "metadata": {
        "id": "lyjKk68GdYlp"
      },
      "execution_count": null,
      "outputs": []
    },
    {
      "cell_type": "code",
      "source": [
        "# Number of columns to be removed\n",
        "len(high_cor_col)"
      ],
      "metadata": {
        "id": "cOgNxaMKf0wZ",
        "colab": {
          "base_uri": "https://localhost:8080/"
        },
        "outputId": "2cd56d2b-2a88-4b8f-9cc2-50081984ccca"
      },
      "execution_count": null,
      "outputs": [
        {
          "output_type": "execute_result",
          "data": {
            "text/plain": [
              "202"
            ]
          },
          "metadata": {},
          "execution_count": 25
        }
      ]
    },
    {
      "cell_type": "code",
      "source": [
        "X_train_v3 = X_train_removed.drop(high_cor_col,axis=1).copy()\n",
        "X_test_v3 = X_test_removed.drop(high_cor_col,axis=1).copy()"
      ],
      "metadata": {
        "id": "23LhprmBf0yo"
      },
      "execution_count": null,
      "outputs": []
    },
    {
      "cell_type": "code",
      "source": [
        "X_train_v3.shape"
      ],
      "metadata": {
        "id": "JpnLKaBx63eL",
        "colab": {
          "base_uri": "https://localhost:8080/"
        },
        "outputId": "3348fde3-62aa-4154-ab54-6ede3b256ccf"
      },
      "execution_count": null,
      "outputs": [
        {
          "output_type": "execute_result",
          "data": {
            "text/plain": [
              "(60816, 130)"
            ]
          },
          "metadata": {},
          "execution_count": 27
        }
      ]
    },
    {
      "cell_type": "code",
      "source": [
        "Y_train.shape\n",
        "Y_train.value_counts()"
      ],
      "metadata": {
        "id": "3yOLJ29ae9tm",
        "colab": {
          "base_uri": "https://localhost:8080/"
        },
        "outputId": "733585c0-87e4-46d9-d38a-c29515d67f6e"
      },
      "execution_count": null,
      "outputs": [
        {
          "output_type": "execute_result",
          "data": {
            "text/plain": [
              "TARGET\n",
              "0         58410\n",
              "1          2406\n",
              "dtype: int64"
            ]
          },
          "metadata": {},
          "execution_count": 28
        }
      ]
    },
    {
      "cell_type": "code",
      "source": [
        "X_test_v3.shape"
      ],
      "metadata": {
        "id": "nGyHOZfk63nD",
        "colab": {
          "base_uri": "https://localhost:8080/"
        },
        "outputId": "151ec5b7-d9c8-4cf6-f58f-52ada7aca52f"
      },
      "execution_count": null,
      "outputs": [
        {
          "output_type": "execute_result",
          "data": {
            "text/plain": [
              "(15204, 130)"
            ]
          },
          "metadata": {},
          "execution_count": 29
        }
      ]
    },
    {
      "cell_type": "code",
      "source": [
        "Y_test.shape"
      ],
      "metadata": {
        "id": "jbVbV2yr7IoE",
        "colab": {
          "base_uri": "https://localhost:8080/"
        },
        "outputId": "98fed7f9-ae39-459f-87e0-4c3d2fe3e987"
      },
      "execution_count": null,
      "outputs": [
        {
          "output_type": "execute_result",
          "data": {
            "text/plain": [
              "(15204, 1)"
            ]
          },
          "metadata": {},
          "execution_count": 30
        }
      ]
    },
    {
      "cell_type": "markdown",
      "source": [
        "To handle the under-representation of the target class, we will perform either:\n",
        "\n",
        "\n",
        "*  Undersampling\n",
        "*  Oversampling\n",
        "\n",
        "\n",
        "\n"
      ],
      "metadata": {
        "id": "ag0he-HCeJQm"
      }
    },
    {
      "cell_type": "code",
      "source": [
        "# instantiating the random undersampler\n",
        "from imblearn.under_sampling import RandomUnderSampler\n",
        "rus = RandomUnderSampler(sampling_strategy= 1) \n",
        "# resampling X, y\n",
        "X_rus, Y_rus = rus.fit_resample(X_train_v3, Y_train)\n",
        "# new class distribution\n",
        "X_rus.shape"
      ],
      "metadata": {
        "id": "PZYzvIvI73HQ",
        "colab": {
          "base_uri": "https://localhost:8080/"
        },
        "outputId": "10a460f6-7591-45bf-90c5-38764178eb1c"
      },
      "execution_count": null,
      "outputs": [
        {
          "output_type": "execute_result",
          "data": {
            "text/plain": [
              "(4812, 130)"
            ]
          },
          "metadata": {},
          "execution_count": 31
        }
      ]
    },
    {
      "cell_type": "code",
      "source": [
        "# # SMOTE\n",
        "# sm = SMOTE(random_state= 42, sampling_strategy = 0.5)\n",
        "# X_res, y_res = sm.fit_resample(X_train_v3, Y_train)\n",
        "# X_res.shape"
      ],
      "metadata": {
        "id": "Ll3kJeWReGc6"
      },
      "execution_count": null,
      "outputs": []
    },
    {
      "cell_type": "code",
      "source": [
        "# y_res.shape\n",
        "# y_res.value_counts()"
      ],
      "metadata": {
        "id": "JtyW9xLlfIJ_"
      },
      "execution_count": null,
      "outputs": []
    },
    {
      "cell_type": "code",
      "source": [
        "Y_rus[\"TARGET\"].value_counts()"
      ],
      "metadata": {
        "id": "ASKI1_1ZIpTn",
        "colab": {
          "base_uri": "https://localhost:8080/"
        },
        "outputId": "7b039ca5-c743-4fdc-b1d1-887e770936c8"
      },
      "execution_count": null,
      "outputs": [
        {
          "output_type": "execute_result",
          "data": {
            "text/plain": [
              "0    2406\n",
              "1    2406\n",
              "Name: TARGET, dtype: int64"
            ]
          },
          "metadata": {},
          "execution_count": 32
        }
      ]
    },
    {
      "cell_type": "code",
      "source": [
        "Y_rus.shape"
      ],
      "metadata": {
        "id": "2iqUEx1F73KE",
        "colab": {
          "base_uri": "https://localhost:8080/"
        },
        "outputId": "f61d788e-f20e-441a-85ef-1caf86349c70"
      },
      "execution_count": null,
      "outputs": [
        {
          "output_type": "execute_result",
          "data": {
            "text/plain": [
              "(4812, 1)"
            ]
          },
          "metadata": {},
          "execution_count": 33
        }
      ]
    },
    {
      "cell_type": "code",
      "source": [
        "X_test_v3.shape"
      ],
      "metadata": {
        "id": "BsBvwDKY9cq3",
        "colab": {
          "base_uri": "https://localhost:8080/"
        },
        "outputId": "f16b9ba9-5c34-4da5-b4db-09e7486538c1"
      },
      "execution_count": null,
      "outputs": [
        {
          "output_type": "execute_result",
          "data": {
            "text/plain": [
              "(15204, 130)"
            ]
          },
          "metadata": {},
          "execution_count": 34
        }
      ]
    },
    {
      "cell_type": "code",
      "source": [
        "Y_test.shape"
      ],
      "metadata": {
        "id": "7gmXmjK69mRx",
        "colab": {
          "base_uri": "https://localhost:8080/"
        },
        "outputId": "7c5763ab-6a49-45b9-8545-e58c2da3eff4"
      },
      "execution_count": null,
      "outputs": [
        {
          "output_type": "execute_result",
          "data": {
            "text/plain": [
              "(15204, 1)"
            ]
          },
          "metadata": {},
          "execution_count": 35
        }
      ]
    },
    {
      "cell_type": "markdown",
      "source": [
        "Creating a decision tree classifier and training it\n",
        "Changes made over a default classifier:\n",
        "\n",
        "\n",
        "*   Splitting criterion changed to \"Entropy\" instead of \"Gini\"\n",
        "*   Max number of leaf nodes changed to 20\n",
        "\n"
      ],
      "metadata": {
        "id": "IhpFQvQBDlbB"
      }
    },
    {
      "cell_type": "code",
      "source": [
        "#dt_v7 = DecisionTreeClassifier(criterion = \"entropy\", max_depth=50, class_weight={0:1,1:6.6})\n",
        "\n",
        "dt = DecisionTreeClassifier(criterion = \"entropy\", max_leaf_nodes=20)\n",
        "\n",
        "\n",
        "#Using Undersampling\n",
        "dt = dt.fit(X_rus, Y_rus)\n",
        "\n",
        "\n",
        "#Using SMOTE\n",
        "#dt_v7 = dt_v7.fit(X_res, y_res)\n",
        "\n",
        "\n",
        "#Predict the responce on new Test Dataset\n",
        "Y_PredNew = dt.predict(X_test_v3)\n",
        "Y_new = dt.predict(X_rus)\n",
        "\n",
        "#Model Accuracy\n",
        "print(\"Training Accuracy:\", metrics.accuracy_score(Y_rus, Y_new))\n",
        "print(\"Testing Accuracy:\", metrics.accuracy_score(Y_test,Y_PredNew))"
      ],
      "metadata": {
        "id": "kz2dYNjF8PkS",
        "colab": {
          "base_uri": "https://localhost:8080/"
        },
        "outputId": "541f9171-d085-444f-ce57-8777f7d181e3"
      },
      "execution_count": null,
      "outputs": [
        {
          "output_type": "stream",
          "name": "stdout",
          "text": [
            "Training Accuracy: 0.755195344970906\n",
            "Testing Accuracy: 0.7864377795317021\n"
          ]
        }
      ]
    },
    {
      "cell_type": "markdown",
      "source": [
        "Plotting the DT"
      ],
      "metadata": {
        "id": "1aQTQ-hTEDWJ"
      }
    },
    {
      "cell_type": "code",
      "source": [
        "from matplotlib import pyplot as plt\n",
        "\n",
        "fig = plt.figure(figsize=(40,20))\n",
        "_ = tree.plot_tree(dt)"
      ],
      "metadata": {
        "id": "GReHlyl97J0v",
        "colab": {
          "base_uri": "https://localhost:8080/",
          "height": 663
        },
        "outputId": "253af249-1f57-48eb-960a-bc5bfec06b76"
      },
      "execution_count": null,
      "outputs": [
        {
          "output_type": "display_data",
          "data": {
            "text/plain": [
              "<Figure size 2880x1440 with 1 Axes>"
            ],
            "image/png": "[encoded data removed]"
          },
          "metadata": {
            "needs_background": "light"
          }
        }
      ]
    },
    {
      "cell_type": "markdown",
      "source": [
        "Calculating Scores and Confusion matrix"
      ],
      "metadata": {
        "id": "altiFyLHDeiF"
      }
    },
    {
      "cell_type": "code",
      "source": [
        "print(metrics.confusion_matrix(Y_test, Y_PredNew))\n",
        "print()\n",
        "print('Printing the precision and recall, among other metrics')\n",
        "print(metrics.classification_report(Y_test, Y_PredNew))"
      ],
      "metadata": {
        "id": "z85YOv5r7uVM",
        "colab": {
          "base_uri": "https://localhost:8080/"
        },
        "outputId": "15ba67e0-b6cd-4179-d050-0e03739faf9e"
      },
      "execution_count": null,
      "outputs": [
        {
          "output_type": "stream",
          "name": "stdout",
          "text": [
            "[[11538  3064]\n",
            " [  183   419]]\n",
            "\n",
            "Printing the precision and recall, among other metrics\n",
            "              precision    recall  f1-score   support\n",
            "\n",
            "           0       0.98      0.79      0.88     14602\n",
            "           1       0.12      0.70      0.21       602\n",
            "\n",
            "    accuracy                           0.79     15204\n",
            "   macro avg       0.55      0.74      0.54     15204\n",
            "weighted avg       0.95      0.79      0.85     15204\n",
            "\n"
          ]
        }
      ]
    },
    {
      "cell_type": "code",
      "source": [
        "X_test_removed =  test.drop(constant_columns,axis=1).copy()\n",
        "X_test_v3 =  X_test_removed.drop(high_cor_col,axis=1)\n",
        "X_test_v3"
      ],
      "metadata": {
        "id": "hxzyNVB28Pm5",
        "colab": {
          "base_uri": "https://localhost:8080/",
          "height": 488
        },
        "outputId": "a720c390-1738-4c1b-c637-37f29decee61"
      },
      "execution_count": null,
      "outputs": [
        {
          "output_type": "execute_result",
          "data": {
            "text/plain": [
              "           ID  var3  var15  imp_ent_var16_ult1  imp_op_var39_comer_ult1  \\\n",
              "0           2     2     32                 0.0                      0.0   \n",
              "1           5     2     35                 0.0                      0.0   \n",
              "2           6     2     23                 0.0                      0.0   \n",
              "3           7     2     24                 0.0                      0.0   \n",
              "4           9     2     23                 0.0                      0.0   \n",
              "...       ...   ...    ...                 ...                      ...   \n",
              "75813  151831     2     23                 0.0                      0.0   \n",
              "75814  151832     2     26                 0.0                      0.0   \n",
              "75815  151833     2     24                 0.0                      0.0   \n",
              "75816  151834     2     40                 0.0                      0.0   \n",
              "75817  151837     2     23                 0.0                      0.0   \n",
              "\n",
              "       imp_op_var40_comer_ult1  imp_op_var40_efect_ult1  imp_op_var40_ult1  \\\n",
              "0                          0.0                      0.0                0.0   \n",
              "1                          0.0                      0.0                0.0   \n",
              "2                          0.0                      0.0                0.0   \n",
              "3                          0.0                      0.0                0.0   \n",
              "4                          0.0                      0.0                0.0   \n",
              "...                        ...                      ...                ...   \n",
              "75813                      0.0                      0.0                0.0   \n",
              "75814                      0.0                      0.0                0.0   \n",
              "75815                      0.0                      0.0                0.0   \n",
              "75816                      0.0                      0.0                0.0   \n",
              "75817                      0.0                      0.0                0.0   \n",
              "\n",
              "       imp_op_var41_efect_ult1  imp_sal_var16_ult1  ...  \\\n",
              "0                          0.0                 0.0  ...   \n",
              "1                          0.0                 0.0  ...   \n",
              "2                         60.0                 0.0  ...   \n",
              "3                          0.0                 0.0  ...   \n",
              "4                          0.0                 0.0  ...   \n",
              "...                        ...                 ...  ...   \n",
              "75813                      0.0                 0.0  ...   \n",
              "75814                      0.0                 0.0  ...   \n",
              "75815                      0.0                 0.0  ...   \n",
              "75816                      0.0                 0.0  ...   \n",
              "75817                      0.0                 0.0  ...   \n",
              "\n",
              "       saldo_medio_var12_hace3  saldo_medio_var13_corto_hace3  \\\n",
              "0                          0.0                            0.0   \n",
              "1                          0.0                            0.0   \n",
              "2                          0.0                            0.0   \n",
              "3                          0.0                            0.0   \n",
              "4                          0.0                            0.0   \n",
              "...                        ...                            ...   \n",
              "75813                      0.0                            0.0   \n",
              "75814                      0.0                            0.0   \n",
              "75815                      0.0                            0.0   \n",
              "75816                      0.0                            0.0   \n",
              "75817                      0.0                            0.0   \n",
              "\n",
              "       saldo_medio_var13_largo_hace2  saldo_medio_var13_largo_hace3  \\\n",
              "0                                0.0                            0.0   \n",
              "1                                0.0                            0.0   \n",
              "2                                0.0                            0.0   \n",
              "3                                0.0                            0.0   \n",
              "4                                0.0                            0.0   \n",
              "...                              ...                            ...   \n",
              "75813                            0.0                            0.0   \n",
              "75814                            0.0                            0.0   \n",
              "75815                            0.0                            0.0   \n",
              "75816                            0.0                            0.0   \n",
              "75817                            0.0                            0.0   \n",
              "\n",
              "       saldo_medio_var29_hace2  saldo_medio_var29_hace3  \\\n",
              "0                          0.0                        0   \n",
              "1                          0.0                        0   \n",
              "2                          0.0                        0   \n",
              "3                          0.0                        0   \n",
              "4                          0.0                        0   \n",
              "...                        ...                      ...   \n",
              "75813                      0.0                        0   \n",
              "75814                      0.0                        0   \n",
              "75815                      0.0                        0   \n",
              "75816                      0.0                        0   \n",
              "75817                      0.0                        0   \n",
              "\n",
              "       saldo_medio_var33_hace3  saldo_medio_var44_hace2  \\\n",
              "0                          0.0                      0.0   \n",
              "1                          0.0                      0.0   \n",
              "2                          0.0                      0.0   \n",
              "3                          0.0                      0.0   \n",
              "4                          0.0                      0.0   \n",
              "...                        ...                      ...   \n",
              "75813                      0.0                      0.0   \n",
              "75814                      0.0                      0.0   \n",
              "75815                      0.0                      0.0   \n",
              "75816                      0.0                      0.0   \n",
              "75817                      0.0                      0.0   \n",
              "\n",
              "       saldo_medio_var44_hace3       var38  \n",
              "0                          0.0   40532.100  \n",
              "1                          0.0   45486.720  \n",
              "2                          0.0   46993.950  \n",
              "3                          0.0  187898.610  \n",
              "4                          0.0   73649.730  \n",
              "...                        ...         ...  \n",
              "75813                      0.0   40243.200  \n",
              "75814                      0.0  146961.300  \n",
              "75815                      0.0  167299.770  \n",
              "75816                      0.0  117310.979  \n",
              "75817                      0.0  117310.979  \n",
              "\n",
              "[75818 rows x 130 columns]"
            ],
            "text/html": [
              "\n",
              "  <div id=\"df-c33c0e46-bd2a-4b45-9262-4bc7c8c9c93a\">\n",
              "    <div class=\"colab-df-container\">\n",
              "      <div>\n",
              "<style scoped>\n",
              "    .dataframe tbody tr th:only-of-type {\n",
              "        vertical-align: middle;\n",
              "    }\n",
              "\n",
              "    .dataframe tbody tr th {\n",
              "        vertical-align: top;\n",
              "    }\n",
              "\n",
              "    .dataframe thead th {\n",
              "        text-align: right;\n",
              "    }\n",
              "</style>\n",
              "<table border=\"1\" class=\"dataframe\">\n",
              "  <thead>\n",
              "    <tr style=\"text-align: right;\">\n",
              "      <th></th>\n",
              "      <th>ID</th>\n",
              "      <th>var3</th>\n",
              "      <th>var15</th>\n",
              "      <th>imp_ent_var16_ult1</th>\n",
              "      <th>imp_op_var39_comer_ult1</th>\n",
              "      <th>imp_op_var40_comer_ult1</th>\n",
              "      <th>imp_op_var40_efect_ult1</th>\n",
              "      <th>imp_op_var40_ult1</th>\n",
              "      <th>imp_op_var41_efect_ult1</th>\n",
              "      <th>imp_sal_var16_ult1</th>\n",
              "      <th>...</th>\n",
              "      <th>saldo_medio_var12_hace3</th>\n",
              "      <th>saldo_medio_var13_corto_hace3</th>\n",
              "      <th>saldo_medio_var13_largo_hace2</th>\n",
              "      <th>saldo_medio_var13_largo_hace3</th>\n",
              "      <th>saldo_medio_var29_hace2</th>\n",
              "      <th>saldo_medio_var29_hace3</th>\n",
              "      <th>saldo_medio_var33_hace3</th>\n",
              "      <th>saldo_medio_var44_hace2</th>\n",
              "      <th>saldo_medio_var44_hace3</th>\n",
              "      <th>var38</th>\n",
              "    </tr>\n",
              "  </thead>\n",
              "  <tbody>\n",
              "    <tr>\n",
              "      <th>0</th>\n",
              "      <td>2</td>\n",
              "      <td>2</td>\n",
              "      <td>32</td>\n",
              "      <td>0.0</td>\n",
              "      <td>0.0</td>\n",
              "      <td>0.0</td>\n",
              "      <td>0.0</td>\n",
              "      <td>0.0</td>\n",
              "      <td>0.0</td>\n",
              "      <td>0.0</td>\n",
              "      <td>...</td>\n",
              "      <td>0.0</td>\n",
              "      <td>0.0</td>\n",
              "      <td>0.0</td>\n",
              "      <td>0.0</td>\n",
              "      <td>0.0</td>\n",
              "      <td>0</td>\n",
              "      <td>0.0</td>\n",
              "      <td>0.0</td>\n",
              "      <td>0.0</td>\n",
              "      <td>40532.100</td>\n",
              "    </tr>\n",
              "    <tr>\n",
              "      <th>1</th>\n",
              "      <td>5</td>\n",
              "      <td>2</td>\n",
              "      <td>35</td>\n",
              "      <td>0.0</td>\n",
              "      <td>0.0</td>\n",
              "      <td>0.0</td>\n",
              "      <td>0.0</td>\n",
              "      <td>0.0</td>\n",
              "      <td>0.0</td>\n",
              "      <td>0.0</td>\n",
              "      <td>...</td>\n",
              "      <td>0.0</td>\n",
              "      <td>0.0</td>\n",
              "      <td>0.0</td>\n",
              "      <td>0.0</td>\n",
              "      <td>0.0</td>\n",
              "      <td>0</td>\n",
              "      <td>0.0</td>\n",
              "      <td>0.0</td>\n",
              "      <td>0.0</td>\n",
              "      <td>45486.720</td>\n",
              "    </tr>\n",
              "    <tr>\n",
              "      <th>2</th>\n",
              "      <td>6</td>\n",
              "      <td>2</td>\n",
              "      <td>23</td>\n",
              "      <td>0.0</td>\n",
              "      <td>0.0</td>\n",
              "      <td>0.0</td>\n",
              "      <td>0.0</td>\n",
              "      <td>0.0</td>\n",
              "      <td>60.0</td>\n",
              "      <td>0.0</td>\n",
              "      <td>...</td>\n",
              "      <td>0.0</td>\n",
              "      <td>0.0</td>\n",
              "      <td>0.0</td>\n",
              "      <td>0.0</td>\n",
              "      <td>0.0</td>\n",
              "      <td>0</td>\n",
              "      <td>0.0</td>\n",
              "      <td>0.0</td>\n",
              "      <td>0.0</td>\n",
              "      <td>46993.950</td>\n",
              "    </tr>\n",
              "    <tr>\n",
              "      <th>3</th>\n",
              "      <td>7</td>\n",
              "      <td>2</td>\n",
              "      <td>24</td>\n",
              "      <td>0.0</td>\n",
              "      <td>0.0</td>\n",
              "      <td>0.0</td>\n",
              "      <td>0.0</td>\n",
              "      <td>0.0</td>\n",
              "      <td>0.0</td>\n",
              "      <td>0.0</td>\n",
              "      <td>...</td>\n",
              "      <td>0.0</td>\n",
              "      <td>0.0</td>\n",
              "      <td>0.0</td>\n",
              "      <td>0.0</td>\n",
              "      <td>0.0</td>\n",
              "      <td>0</td>\n",
              "      <td>0.0</td>\n",
              "      <td>0.0</td>\n",
              "      <td>0.0</td>\n",
              "      <td>187898.610</td>\n",
              "    </tr>\n",
              "    <tr>\n",
              "      <th>4</th>\n",
              "      <td>9</td>\n",
              "      <td>2</td>\n",
              "      <td>23</td>\n",
              "      <td>0.0</td>\n",
              "      <td>0.0</td>\n",
              "      <td>0.0</td>\n",
              "      <td>0.0</td>\n",
              "      <td>0.0</td>\n",
              "      <td>0.0</td>\n",
              "      <td>0.0</td>\n",
              "      <td>...</td>\n",
              "      <td>0.0</td>\n",
              "      <td>0.0</td>\n",
              "      <td>0.0</td>\n",
              "      <td>0.0</td>\n",
              "      <td>0.0</td>\n",
              "      <td>0</td>\n",
              "      <td>0.0</td>\n",
              "      <td>0.0</td>\n",
              "      <td>0.0</td>\n",
              "      <td>73649.730</td>\n",
              "    </tr>\n",
              "    <tr>\n",
              "      <th>...</th>\n",
              "      <td>...</td>\n",
              "      <td>...</td>\n",
              "      <td>...</td>\n",
              "      <td>...</td>\n",
              "      <td>...</td>\n",
              "      <td>...</td>\n",
              "      <td>...</td>\n",
              "      <td>...</td>\n",
              "      <td>...</td>\n",
              "      <td>...</td>\n",
              "      <td>...</td>\n",
              "      <td>...</td>\n",
              "      <td>...</td>\n",
              "      <td>...</td>\n",
              "      <td>...</td>\n",
              "      <td>...</td>\n",
              "      <td>...</td>\n",
              "      <td>...</td>\n",
              "      <td>...</td>\n",
              "      <td>...</td>\n",
              "      <td>...</td>\n",
              "    </tr>\n",
              "    <tr>\n",
              "      <th>75813</th>\n",
              "      <td>151831</td>\n",
              "      <td>2</td>\n",
              "      <td>23</td>\n",
              "      <td>0.0</td>\n",
              "      <td>0.0</td>\n",
              "      <td>0.0</td>\n",
              "      <td>0.0</td>\n",
              "      <td>0.0</td>\n",
              "      <td>0.0</td>\n",
              "      <td>0.0</td>\n",
              "      <td>...</td>\n",
              "      <td>0.0</td>\n",
              "      <td>0.0</td>\n",
              "      <td>0.0</td>\n",
              "      <td>0.0</td>\n",
              "      <td>0.0</td>\n",
              "      <td>0</td>\n",
              "      <td>0.0</td>\n",
              "      <td>0.0</td>\n",
              "      <td>0.0</td>\n",
              "      <td>40243.200</td>\n",
              "    </tr>\n",
              "    <tr>\n",
              "      <th>75814</th>\n",
              "      <td>151832</td>\n",
              "      <td>2</td>\n",
              "      <td>26</td>\n",
              "      <td>0.0</td>\n",
              "      <td>0.0</td>\n",
              "      <td>0.0</td>\n",
              "      <td>0.0</td>\n",
              "      <td>0.0</td>\n",
              "      <td>0.0</td>\n",
              "      <td>0.0</td>\n",
              "      <td>...</td>\n",
              "      <td>0.0</td>\n",
              "      <td>0.0</td>\n",
              "      <td>0.0</td>\n",
              "      <td>0.0</td>\n",
              "      <td>0.0</td>\n",
              "      <td>0</td>\n",
              "      <td>0.0</td>\n",
              "      <td>0.0</td>\n",
              "      <td>0.0</td>\n",
              "      <td>146961.300</td>\n",
              "    </tr>\n",
              "    <tr>\n",
              "      <th>75815</th>\n",
              "      <td>151833</td>\n",
              "      <td>2</td>\n",
              "      <td>24</td>\n",
              "      <td>0.0</td>\n",
              "      <td>0.0</td>\n",
              "      <td>0.0</td>\n",
              "      <td>0.0</td>\n",
              "      <td>0.0</td>\n",
              "      <td>0.0</td>\n",
              "      <td>0.0</td>\n",
              "      <td>...</td>\n",
              "      <td>0.0</td>\n",
              "      <td>0.0</td>\n",
              "      <td>0.0</td>\n",
              "      <td>0.0</td>\n",
              "      <td>0.0</td>\n",
              "      <td>0</td>\n",
              "      <td>0.0</td>\n",
              "      <td>0.0</td>\n",
              "      <td>0.0</td>\n",
              "      <td>167299.770</td>\n",
              "    </tr>\n",
              "    <tr>\n",
              "      <th>75816</th>\n",
              "      <td>151834</td>\n",
              "      <td>2</td>\n",
              "      <td>40</td>\n",
              "      <td>0.0</td>\n",
              "      <td>0.0</td>\n",
              "      <td>0.0</td>\n",
              "      <td>0.0</td>\n",
              "      <td>0.0</td>\n",
              "      <td>0.0</td>\n",
              "      <td>0.0</td>\n",
              "      <td>...</td>\n",
              "      <td>0.0</td>\n",
              "      <td>0.0</td>\n",
              "      <td>0.0</td>\n",
              "      <td>0.0</td>\n",
              "      <td>0.0</td>\n",
              "      <td>0</td>\n",
              "      <td>0.0</td>\n",
              "      <td>0.0</td>\n",
              "      <td>0.0</td>\n",
              "      <td>117310.979</td>\n",
              "    </tr>\n",
              "    <tr>\n",
              "      <th>75817</th>\n",
              "      <td>151837</td>\n",
              "      <td>2</td>\n",
              "      <td>23</td>\n",
              "      <td>0.0</td>\n",
              "      <td>0.0</td>\n",
              "      <td>0.0</td>\n",
              "      <td>0.0</td>\n",
              "      <td>0.0</td>\n",
              "      <td>0.0</td>\n",
              "      <td>0.0</td>\n",
              "      <td>...</td>\n",
              "      <td>0.0</td>\n",
              "      <td>0.0</td>\n",
              "      <td>0.0</td>\n",
              "      <td>0.0</td>\n",
              "      <td>0.0</td>\n",
              "      <td>0</td>\n",
              "      <td>0.0</td>\n",
              "      <td>0.0</td>\n",
              "      <td>0.0</td>\n",
              "      <td>117310.979</td>\n",
              "    </tr>\n",
              "  </tbody>\n",
              "</table>\n",
              "<p>75818 rows × 130 columns</p>\n",
              "</div>\n",
              "      <button class=\"colab-df-convert\" onclick=\"convertToInteractive('df-c33c0e46-bd2a-4b45-9262-4bc7c8c9c93a')\"\n",
              "              title=\"Convert this dataframe to an interactive table.\"\n",
              "              style=\"display:none;\">\n",
              "        \n",
              "  <svg xmlns=\"http://www.w3.org/2000/svg\" height=\"24px\"viewBox=\"0 0 24 24\"\n",
              "       width=\"24px\">\n",
              "    <path d=\"M0 0h24v24H0V0z\" fill=\"none\"/>\n",
              "    <path d=\"M18.56 5.44l.94 2.06.94-2.06 2.06-.94-2.06-.94-.94-2.06-.94 2.06-2.06.94zm-11 1L8.5 8.5l.94-2.06 2.06-.94-2.06-.94L8.5 2.5l-.94 2.06-2.06.94zm10 10l.94 2.06.94-2.06 2.06-.94-2.06-.94-.94-2.06-.94 2.06-2.06.94z\"/><path d=\"M17.41 7.96l-1.37-1.37c-.4-.4-.92-.59-1.43-.59-.52 0-1.04.2-1.43.59L10.3 9.45l-7.72 7.72c-.78.78-.78 2.05 0 2.83L4 21.41c.39.39.9.59 1.41.59.51 0 1.02-.2 1.41-.59l7.78-7.78 2.81-2.81c.8-.78.8-2.07 0-2.86zM5.41 20L4 18.59l7.72-7.72 1.47 1.35L5.41 20z\"/>\n",
              "  </svg>\n",
              "      </button>\n",
              "      \n",
              "  <style>\n",
              "    .colab-df-container {\n",
              "      display:flex;\n",
              "      flex-wrap:wrap;\n",
              "      gap: 12px;\n",
              "    }\n",
              "\n",
              "    .colab-df-convert {\n",
              "      background-color: #E8F0FE;\n",
              "      border: none;\n",
              "      border-radius: 50%;\n",
              "      cursor: pointer;\n",
              "      display: none;\n",
              "      fill: #1967D2;\n",
              "      height: 32px;\n",
              "      padding: 0 0 0 0;\n",
              "      width: 32px;\n",
              "    }\n",
              "\n",
              "    .colab-df-convert:hover {\n",
              "      background-color: #E2EBFA;\n",
              "      box-shadow: 0px 1px 2px rgba(60, 64, 67, 0.3), 0px 1px 3px 1px rgba(60, 64, 67, 0.15);\n",
              "      fill: #174EA6;\n",
              "    }\n",
              "\n",
              "    [theme=dark] .colab-df-convert {\n",
              "      background-color: #3B4455;\n",
              "      fill: #D2E3FC;\n",
              "    }\n",
              "\n",
              "    [theme=dark] .colab-df-convert:hover {\n",
              "      background-color: #434B5C;\n",
              "      box-shadow: 0px 1px 3px 1px rgba(0, 0, 0, 0.15);\n",
              "      filter: drop-shadow(0px 1px 2px rgba(0, 0, 0, 0.3));\n",
              "      fill: #FFFFFF;\n",
              "    }\n",
              "  </style>\n",
              "\n",
              "      <script>\n",
              "        const buttonEl =\n",
              "          document.querySelector('#df-c33c0e46-bd2a-4b45-9262-4bc7c8c9c93a button.colab-df-convert');\n",
              "        buttonEl.style.display =\n",
              "          google.colab.kernel.accessAllowed ? 'block' : 'none';\n",
              "\n",
              "        async function convertToInteractive(key) {\n",
              "          const element = document.querySelector('#df-c33c0e46-bd2a-4b45-9262-4bc7c8c9c93a');\n",
              "          const dataTable =\n",
              "            await google.colab.kernel.invokeFunction('convertToInteractive',\n",
              "                                                     [key], {});\n",
              "          if (!dataTable) return;\n",
              "\n",
              "          const docLinkHtml = 'Like what you see? Visit the ' +\n",
              "            '<a target=\"_blank\" href=https://colab.research.google.com/notebooks/data_table.ipynb>data table notebook</a>'\n",
              "            + ' to learn more about interactive tables.';\n",
              "          element.innerHTML = '';\n",
              "          dataTable['output_type'] = 'display_data';\n",
              "          await google.colab.output.renderOutput(dataTable, element);\n",
              "          const docLink = document.createElement('div');\n",
              "          docLink.innerHTML = docLinkHtml;\n",
              "          element.appendChild(docLink);\n",
              "        }\n",
              "      </script>\n",
              "    </div>\n",
              "  </div>\n",
              "  "
            ]
          },
          "metadata": {},
          "execution_count": 40
        }
      ]
    },
    {
      "cell_type": "markdown",
      "source": [
        "Submitting to Kaggle"
      ],
      "metadata": {
        "id": "vgcq5dCGDl4I"
      }
    },
    {
      "cell_type": "code",
      "source": [
        "predictions = dt.predict(X_test_v3)\n",
        "sample_submission = pd.read_csv(\"/gdrive/MyDrive/CIS508/Santander/sample_submission (1).csv\")\n",
        "sample_submission['TARGET'] = predictions\n",
        "sample_submission.to_csv(\"/gdrive/MyDrive/CIS508/Santander/submission.csv\",index=False)"
      ],
      "metadata": {
        "id": "fAa0q-CZ8PqC"
      },
      "execution_count": null,
      "outputs": []
    }
  ]
}